{
 "cells": [
  {
   "cell_type": "code",
   "execution_count": 1,
   "metadata": {},
   "outputs": [],
   "source": [
    "# Statistics modules\n",
    "import scipy.stats as st\n",
    "\n",
    "# Datetime class\n",
    "from datetime import date\n",
    "from datetime import datetime\n",
    "\n",
    "import pandas as pd # dataframe manipulation\n",
    "import numpy as np # linear algebra\n",
    "\n",
    "# data visualization\n",
    "import matplotlib.pyplot as plt\n",
    "import seaborn as sns\n",
    "\n",
    "sns.set_theme()\n",
    "sns.set(color_codes=True)"
   ]
  },
  {
   "cell_type": "code",
   "execution_count": 2,
   "metadata": {},
   "outputs": [],
   "source": [
    "crime_data = pd.read_csv('Crime_Data_from_2020_to_Present.csv')"
   ]
  },
  {
   "cell_type": "markdown",
   "metadata": {},
   "source": [
    "## Data Cleaning"
   ]
  },
  {
   "cell_type": "code",
   "execution_count": 3,
   "metadata": {},
   "outputs": [
    {
     "data": {
      "text/html": [
       "<div>\n",
       "<style scoped>\n",
       "    .dataframe tbody tr th:only-of-type {\n",
       "        vertical-align: middle;\n",
       "    }\n",
       "\n",
       "    .dataframe tbody tr th {\n",
       "        vertical-align: top;\n",
       "    }\n",
       "\n",
       "    .dataframe thead th {\n",
       "        text-align: right;\n",
       "    }\n",
       "</style>\n",
       "<table border=\"1\" class=\"dataframe\">\n",
       "  <thead>\n",
       "    <tr style=\"text-align: right;\">\n",
       "      <th></th>\n",
       "      <th>DR_NO</th>\n",
       "      <th>Date Rptd</th>\n",
       "      <th>DATE OCC</th>\n",
       "      <th>TIME OCC</th>\n",
       "      <th>AREA</th>\n",
       "      <th>AREA NAME</th>\n",
       "      <th>Rpt Dist No</th>\n",
       "      <th>Part 1-2</th>\n",
       "      <th>Crm Cd</th>\n",
       "      <th>Crm Cd Desc</th>\n",
       "      <th>...</th>\n",
       "      <th>Status</th>\n",
       "      <th>Status Desc</th>\n",
       "      <th>Crm Cd 1</th>\n",
       "      <th>Crm Cd 2</th>\n",
       "      <th>Crm Cd 3</th>\n",
       "      <th>Crm Cd 4</th>\n",
       "      <th>LOCATION</th>\n",
       "      <th>Cross Street</th>\n",
       "      <th>LAT</th>\n",
       "      <th>LON</th>\n",
       "    </tr>\n",
       "  </thead>\n",
       "  <tbody>\n",
       "    <tr>\n",
       "      <th>0</th>\n",
       "      <td>10304468</td>\n",
       "      <td>01/08/2020 12:00:00 AM</td>\n",
       "      <td>01/08/2020 12:00:00 AM</td>\n",
       "      <td>2230</td>\n",
       "      <td>3</td>\n",
       "      <td>Southwest</td>\n",
       "      <td>377</td>\n",
       "      <td>2</td>\n",
       "      <td>624</td>\n",
       "      <td>BATTERY - SIMPLE ASSAULT</td>\n",
       "      <td>...</td>\n",
       "      <td>AO</td>\n",
       "      <td>Adult Other</td>\n",
       "      <td>624.0</td>\n",
       "      <td>NaN</td>\n",
       "      <td>NaN</td>\n",
       "      <td>NaN</td>\n",
       "      <td>1100 W  39TH                         PL</td>\n",
       "      <td>NaN</td>\n",
       "      <td>34.0141</td>\n",
       "      <td>-118.2978</td>\n",
       "    </tr>\n",
       "    <tr>\n",
       "      <th>1</th>\n",
       "      <td>190101086</td>\n",
       "      <td>01/02/2020 12:00:00 AM</td>\n",
       "      <td>01/01/2020 12:00:00 AM</td>\n",
       "      <td>330</td>\n",
       "      <td>1</td>\n",
       "      <td>Central</td>\n",
       "      <td>163</td>\n",
       "      <td>2</td>\n",
       "      <td>624</td>\n",
       "      <td>BATTERY - SIMPLE ASSAULT</td>\n",
       "      <td>...</td>\n",
       "      <td>IC</td>\n",
       "      <td>Invest Cont</td>\n",
       "      <td>624.0</td>\n",
       "      <td>NaN</td>\n",
       "      <td>NaN</td>\n",
       "      <td>NaN</td>\n",
       "      <td>700 S  HILL                         ST</td>\n",
       "      <td>NaN</td>\n",
       "      <td>34.0459</td>\n",
       "      <td>-118.2545</td>\n",
       "    </tr>\n",
       "    <tr>\n",
       "      <th>2</th>\n",
       "      <td>200110444</td>\n",
       "      <td>04/14/2020 12:00:00 AM</td>\n",
       "      <td>02/13/2020 12:00:00 AM</td>\n",
       "      <td>1200</td>\n",
       "      <td>1</td>\n",
       "      <td>Central</td>\n",
       "      <td>155</td>\n",
       "      <td>2</td>\n",
       "      <td>845</td>\n",
       "      <td>SEX OFFENDER REGISTRANT OUT OF COMPLIANCE</td>\n",
       "      <td>...</td>\n",
       "      <td>AA</td>\n",
       "      <td>Adult Arrest</td>\n",
       "      <td>845.0</td>\n",
       "      <td>NaN</td>\n",
       "      <td>NaN</td>\n",
       "      <td>NaN</td>\n",
       "      <td>200 E  6TH                          ST</td>\n",
       "      <td>NaN</td>\n",
       "      <td>34.0448</td>\n",
       "      <td>-118.2474</td>\n",
       "    </tr>\n",
       "    <tr>\n",
       "      <th>3</th>\n",
       "      <td>191501505</td>\n",
       "      <td>01/01/2020 12:00:00 AM</td>\n",
       "      <td>01/01/2020 12:00:00 AM</td>\n",
       "      <td>1730</td>\n",
       "      <td>15</td>\n",
       "      <td>N Hollywood</td>\n",
       "      <td>1543</td>\n",
       "      <td>2</td>\n",
       "      <td>745</td>\n",
       "      <td>VANDALISM - MISDEAMEANOR ($399 OR UNDER)</td>\n",
       "      <td>...</td>\n",
       "      <td>IC</td>\n",
       "      <td>Invest Cont</td>\n",
       "      <td>745.0</td>\n",
       "      <td>998.0</td>\n",
       "      <td>NaN</td>\n",
       "      <td>NaN</td>\n",
       "      <td>5400    CORTEEN                      PL</td>\n",
       "      <td>NaN</td>\n",
       "      <td>34.1685</td>\n",
       "      <td>-118.4019</td>\n",
       "    </tr>\n",
       "    <tr>\n",
       "      <th>4</th>\n",
       "      <td>191921269</td>\n",
       "      <td>01/01/2020 12:00:00 AM</td>\n",
       "      <td>01/01/2020 12:00:00 AM</td>\n",
       "      <td>415</td>\n",
       "      <td>19</td>\n",
       "      <td>Mission</td>\n",
       "      <td>1998</td>\n",
       "      <td>2</td>\n",
       "      <td>740</td>\n",
       "      <td>VANDALISM - FELONY ($400 &amp; OVER, ALL CHURCH VA...</td>\n",
       "      <td>...</td>\n",
       "      <td>IC</td>\n",
       "      <td>Invest Cont</td>\n",
       "      <td>740.0</td>\n",
       "      <td>NaN</td>\n",
       "      <td>NaN</td>\n",
       "      <td>NaN</td>\n",
       "      <td>14400    TITUS                        ST</td>\n",
       "      <td>NaN</td>\n",
       "      <td>34.2198</td>\n",
       "      <td>-118.4468</td>\n",
       "    </tr>\n",
       "  </tbody>\n",
       "</table>\n",
       "<p>5 rows × 28 columns</p>\n",
       "</div>"
      ],
      "text/plain": [
       "       DR_NO               Date Rptd                DATE OCC  TIME OCC  AREA  \\\n",
       "0   10304468  01/08/2020 12:00:00 AM  01/08/2020 12:00:00 AM      2230     3   \n",
       "1  190101086  01/02/2020 12:00:00 AM  01/01/2020 12:00:00 AM       330     1   \n",
       "2  200110444  04/14/2020 12:00:00 AM  02/13/2020 12:00:00 AM      1200     1   \n",
       "3  191501505  01/01/2020 12:00:00 AM  01/01/2020 12:00:00 AM      1730    15   \n",
       "4  191921269  01/01/2020 12:00:00 AM  01/01/2020 12:00:00 AM       415    19   \n",
       "\n",
       "     AREA NAME  Rpt Dist No  Part 1-2  Crm Cd  \\\n",
       "0    Southwest          377         2     624   \n",
       "1      Central          163         2     624   \n",
       "2      Central          155         2     845   \n",
       "3  N Hollywood         1543         2     745   \n",
       "4      Mission         1998         2     740   \n",
       "\n",
       "                                         Crm Cd Desc  ... Status  \\\n",
       "0                           BATTERY - SIMPLE ASSAULT  ...     AO   \n",
       "1                           BATTERY - SIMPLE ASSAULT  ...     IC   \n",
       "2          SEX OFFENDER REGISTRANT OUT OF COMPLIANCE  ...     AA   \n",
       "3           VANDALISM - MISDEAMEANOR ($399 OR UNDER)  ...     IC   \n",
       "4  VANDALISM - FELONY ($400 & OVER, ALL CHURCH VA...  ...     IC   \n",
       "\n",
       "    Status Desc Crm Cd 1 Crm Cd 2  Crm Cd 3 Crm Cd 4  \\\n",
       "0   Adult Other    624.0      NaN       NaN      NaN   \n",
       "1   Invest Cont    624.0      NaN       NaN      NaN   \n",
       "2  Adult Arrest    845.0      NaN       NaN      NaN   \n",
       "3   Invest Cont    745.0    998.0       NaN      NaN   \n",
       "4   Invest Cont    740.0      NaN       NaN      NaN   \n",
       "\n",
       "                                   LOCATION Cross Street      LAT       LON  \n",
       "0   1100 W  39TH                         PL          NaN  34.0141 -118.2978  \n",
       "1    700 S  HILL                         ST          NaN  34.0459 -118.2545  \n",
       "2    200 E  6TH                          ST          NaN  34.0448 -118.2474  \n",
       "3   5400    CORTEEN                      PL          NaN  34.1685 -118.4019  \n",
       "4  14400    TITUS                        ST          NaN  34.2198 -118.4468  \n",
       "\n",
       "[5 rows x 28 columns]"
      ]
     },
     "execution_count": 3,
     "metadata": {},
     "output_type": "execute_result"
    }
   ],
   "source": [
    "crime_data.head()"
   ]
  },
  {
   "cell_type": "code",
   "execution_count": 4,
   "metadata": {},
   "outputs": [
    {
     "data": {
      "text/plain": [
       "(807377, 28)"
      ]
     },
     "execution_count": 4,
     "metadata": {},
     "output_type": "execute_result"
    }
   ],
   "source": [
    "crime_data.shape"
   ]
  },
  {
   "cell_type": "code",
   "execution_count": 5,
   "metadata": {},
   "outputs": [],
   "source": [
    "# So, I went through the explanations for each of the columns in this link https://data.lacity.org/Public-Safety/Crime-Data-from-2020-to-Present/2nrs-mtv8\n",
    "# Found that these columns don't really have any contribution to our predictive analysis.\n",
    "# Part 1-2 is vague, most of the entries in Cross Street is NaN, Mocodes doesn't have any meaning to our study.\n",
    "\n",
    "crime_data = crime_data.drop(columns=['Part 1-2', 'Cross Street', 'Mocodes'])"
   ]
  },
  {
   "cell_type": "code",
   "execution_count": 6,
   "metadata": {},
   "outputs": [],
   "source": [
    "# Since age of the victims is a vital feature to our study, it wouldn't make sense to have Age = 0 (according to the official documentation means the age was unknown)\n",
    "\n",
    "crime_data = crime_data.drop(crime_data[crime_data['Vict Age'] == 0].index)"
   ]
  },
  {
   "cell_type": "code",
   "execution_count": 7,
   "metadata": {},
   "outputs": [
    {
     "data": {
      "text/plain": [
       "DR_NO                  0\n",
       "Date Rptd              0\n",
       "DATE OCC               0\n",
       "TIME OCC               0\n",
       "AREA                   0\n",
       "AREA NAME              0\n",
       "Rpt Dist No            0\n",
       "Crm Cd                 0\n",
       "Crm Cd Desc            0\n",
       "Vict Age               0\n",
       "Vict Sex              30\n",
       "Vict Descent          29\n",
       "Premis Cd              0\n",
       "Premis Desc          182\n",
       "Weapon Used Cd    349955\n",
       "Weapon Desc       349955\n",
       "Status                 0\n",
       "Status Desc            0\n",
       "Crm Cd 1               5\n",
       "Crm Cd 2          561755\n",
       "Crm Cd 3          606851\n",
       "Crm Cd 4          608654\n",
       "LOCATION               0\n",
       "LAT                    0\n",
       "LON                    0\n",
       "dtype: int64"
      ]
     },
     "execution_count": 7,
     "metadata": {},
     "output_type": "execute_result"
    }
   ],
   "source": [
    "# Checking for number of null values across each column\n",
    "\n",
    "crime_data.isnull().sum()"
   ]
  },
  {
   "cell_type": "code",
   "execution_count": 8,
   "metadata": {},
   "outputs": [
    {
     "data": {
      "text/html": [
       "<div>\n",
       "<style scoped>\n",
       "    .dataframe tbody tr th:only-of-type {\n",
       "        vertical-align: middle;\n",
       "    }\n",
       "\n",
       "    .dataframe tbody tr th {\n",
       "        vertical-align: top;\n",
       "    }\n",
       "\n",
       "    .dataframe thead th {\n",
       "        text-align: right;\n",
       "    }\n",
       "</style>\n",
       "<table border=\"1\" class=\"dataframe\">\n",
       "  <thead>\n",
       "    <tr style=\"text-align: right;\">\n",
       "      <th></th>\n",
       "      <th>Count</th>\n",
       "      <th>Percent missing</th>\n",
       "    </tr>\n",
       "  </thead>\n",
       "  <tbody>\n",
       "    <tr>\n",
       "      <th>DR_NO</th>\n",
       "      <td>0</td>\n",
       "      <td>0.00</td>\n",
       "    </tr>\n",
       "    <tr>\n",
       "      <th>Date Rptd</th>\n",
       "      <td>0</td>\n",
       "      <td>0.00</td>\n",
       "    </tr>\n",
       "    <tr>\n",
       "      <th>DATE OCC</th>\n",
       "      <td>0</td>\n",
       "      <td>0.00</td>\n",
       "    </tr>\n",
       "    <tr>\n",
       "      <th>TIME OCC</th>\n",
       "      <td>0</td>\n",
       "      <td>0.00</td>\n",
       "    </tr>\n",
       "    <tr>\n",
       "      <th>AREA</th>\n",
       "      <td>0</td>\n",
       "      <td>0.00</td>\n",
       "    </tr>\n",
       "    <tr>\n",
       "      <th>AREA NAME</th>\n",
       "      <td>0</td>\n",
       "      <td>0.00</td>\n",
       "    </tr>\n",
       "    <tr>\n",
       "      <th>Rpt Dist No</th>\n",
       "      <td>0</td>\n",
       "      <td>0.00</td>\n",
       "    </tr>\n",
       "    <tr>\n",
       "      <th>Crm Cd</th>\n",
       "      <td>0</td>\n",
       "      <td>0.00</td>\n",
       "    </tr>\n",
       "    <tr>\n",
       "      <th>Crm Cd Desc</th>\n",
       "      <td>0</td>\n",
       "      <td>0.00</td>\n",
       "    </tr>\n",
       "    <tr>\n",
       "      <th>Vict Age</th>\n",
       "      <td>0</td>\n",
       "      <td>0.00</td>\n",
       "    </tr>\n",
       "    <tr>\n",
       "      <th>Vict Sex</th>\n",
       "      <td>30</td>\n",
       "      <td>0.00</td>\n",
       "    </tr>\n",
       "    <tr>\n",
       "      <th>Vict Descent</th>\n",
       "      <td>29</td>\n",
       "      <td>0.00</td>\n",
       "    </tr>\n",
       "    <tr>\n",
       "      <th>Premis Cd</th>\n",
       "      <td>0</td>\n",
       "      <td>0.00</td>\n",
       "    </tr>\n",
       "    <tr>\n",
       "      <th>Premis Desc</th>\n",
       "      <td>182</td>\n",
       "      <td>0.03</td>\n",
       "    </tr>\n",
       "    <tr>\n",
       "      <th>Weapon Used Cd</th>\n",
       "      <td>349955</td>\n",
       "      <td>57.49</td>\n",
       "    </tr>\n",
       "    <tr>\n",
       "      <th>Weapon Desc</th>\n",
       "      <td>349955</td>\n",
       "      <td>57.49</td>\n",
       "    </tr>\n",
       "    <tr>\n",
       "      <th>Status</th>\n",
       "      <td>0</td>\n",
       "      <td>0.00</td>\n",
       "    </tr>\n",
       "    <tr>\n",
       "      <th>Status Desc</th>\n",
       "      <td>0</td>\n",
       "      <td>0.00</td>\n",
       "    </tr>\n",
       "    <tr>\n",
       "      <th>Crm Cd 1</th>\n",
       "      <td>5</td>\n",
       "      <td>0.00</td>\n",
       "    </tr>\n",
       "    <tr>\n",
       "      <th>Crm Cd 2</th>\n",
       "      <td>561755</td>\n",
       "      <td>92.29</td>\n",
       "    </tr>\n",
       "    <tr>\n",
       "      <th>Crm Cd 3</th>\n",
       "      <td>606851</td>\n",
       "      <td>99.69</td>\n",
       "    </tr>\n",
       "    <tr>\n",
       "      <th>Crm Cd 4</th>\n",
       "      <td>608654</td>\n",
       "      <td>99.99</td>\n",
       "    </tr>\n",
       "    <tr>\n",
       "      <th>LOCATION</th>\n",
       "      <td>0</td>\n",
       "      <td>0.00</td>\n",
       "    </tr>\n",
       "    <tr>\n",
       "      <th>LAT</th>\n",
       "      <td>0</td>\n",
       "      <td>0.00</td>\n",
       "    </tr>\n",
       "    <tr>\n",
       "      <th>LON</th>\n",
       "      <td>0</td>\n",
       "      <td>0.00</td>\n",
       "    </tr>\n",
       "  </tbody>\n",
       "</table>\n",
       "</div>"
      ],
      "text/plain": [
       "                 Count  Percent missing\n",
       "DR_NO                0             0.00\n",
       "Date Rptd            0             0.00\n",
       "DATE OCC             0             0.00\n",
       "TIME OCC             0             0.00\n",
       "AREA                 0             0.00\n",
       "AREA NAME            0             0.00\n",
       "Rpt Dist No          0             0.00\n",
       "Crm Cd               0             0.00\n",
       "Crm Cd Desc          0             0.00\n",
       "Vict Age             0             0.00\n",
       "Vict Sex            30             0.00\n",
       "Vict Descent        29             0.00\n",
       "Premis Cd            0             0.00\n",
       "Premis Desc        182             0.03\n",
       "Weapon Used Cd  349955            57.49\n",
       "Weapon Desc     349955            57.49\n",
       "Status               0             0.00\n",
       "Status Desc          0             0.00\n",
       "Crm Cd 1             5             0.00\n",
       "Crm Cd 2        561755            92.29\n",
       "Crm Cd 3        606851            99.69\n",
       "Crm Cd 4        608654            99.99\n",
       "LOCATION             0             0.00\n",
       "LAT                  0             0.00\n",
       "LON                  0             0.00"
      ]
     },
     "execution_count": 8,
     "metadata": {},
     "output_type": "execute_result"
    }
   ],
   "source": [
    "# Finding the percentage of missing values compared to the entire dataset\n",
    "\n",
    "null_values = crime_data.isnull().sum()\n",
    "total_values = crime_data.isnull().count()\n",
    "percent_missing = round(null_values/total_values * 100, 2)\n",
    "percent_missing_df = pd.DataFrame({'Count': null_values, 'Percent missing': percent_missing})\n",
    "\n",
    "percent_missing_df"
   ]
  },
  {
   "cell_type": "code",
   "execution_count": 9,
   "metadata": {},
   "outputs": [
    {
     "data": {
      "image/png": "[encoded data removed]",
      "text/plain": [
       "<Figure size 2000x600 with 1 Axes>"
      ]
     },
     "metadata": {},
     "output_type": "display_data"
    }
   ],
   "source": [
    "fig, ax = plt.subplots(figsize=(20, 6))\n",
    "\n",
    "# Create the bar chart\n",
    "percent_missing_df.plot.bar(y='Percent missing', ax=ax)\n",
    "\n",
    "\n",
    "for index, percent in enumerate(percent_missing):\n",
    "    ax.text(index, percent, str(percent) + '%')"
   ]
  },
  {
   "cell_type": "code",
   "execution_count": 10,
   "metadata": {},
   "outputs": [
    {
     "data": {
      "text/plain": [
       "(608710, 25)"
      ]
     },
     "execution_count": 10,
     "metadata": {},
     "output_type": "execute_result"
    }
   ],
   "source": [
    "crime_data.shape"
   ]
  },
  {
   "cell_type": "code",
   "execution_count": 11,
   "metadata": {},
   "outputs": [
    {
     "data": {
      "text/plain": [
       "DR_NO             608710\n",
       "Date Rptd           1364\n",
       "DATE OCC            1364\n",
       "TIME OCC            1439\n",
       "AREA                  21\n",
       "AREA NAME             21\n",
       "Rpt Dist No         1186\n",
       "Crm Cd               135\n",
       "Crm Cd Desc          135\n",
       "Vict Age             102\n",
       "Vict Sex               4\n",
       "Vict Descent          20\n",
       "Premis Cd            310\n",
       "Premis Desc          303\n",
       "Weapon Used Cd        79\n",
       "Weapon Desc           79\n",
       "Status                 6\n",
       "Status Desc            6\n",
       "Crm Cd 1             136\n",
       "Crm Cd 2             119\n",
       "Crm Cd 3              36\n",
       "Crm Cd 4               6\n",
       "LOCATION           59221\n",
       "LAT                 5283\n",
       "LON                 4957\n",
       "dtype: int64"
      ]
     },
     "execution_count": 11,
     "metadata": {},
     "output_type": "execute_result"
    }
   ],
   "source": [
    "# Checking for unique values across columns. DR_NO can be used as PRIMARY KEY and/or UNIQUE KEY\n",
    "\n",
    "crime_data.nunique()"
   ]
  },
  {
   "cell_type": "code",
   "execution_count": 12,
   "metadata": {},
   "outputs": [
    {
     "data": {
      "text/plain": [
       "M    306916\n",
       "F    294312\n",
       "X      7365\n",
       "H        87\n",
       "Name: Vict Sex, dtype: int64"
      ]
     },
     "execution_count": 12,
     "metadata": {},
     "output_type": "execute_result"
    }
   ],
   "source": [
    "# Checking for distinct categories of victim's sex\n",
    "\n",
    "crime_data['Vict Sex'].value_counts()"
   ]
  },
  {
   "cell_type": "code",
   "execution_count": 13,
   "metadata": {},
   "outputs": [],
   "source": [
    "# The study will prove most effective if we have only two categories of sex. 'X' means the sex is unknown and I don't have any idea what 'H' means.\n",
    "\n",
    "crime_data = crime_data.drop(crime_data[crime_data['Vict Sex'] == 'X'].index)\n",
    "crime_data = crime_data.drop(crime_data[crime_data['Vict Sex'] == 'H'].index)"
   ]
  },
  {
   "cell_type": "code",
   "execution_count": 14,
   "metadata": {},
   "outputs": [
    {
     "data": {
      "text/plain": [
       "DR_NO             601258\n",
       "Date Rptd           1364\n",
       "DATE OCC            1364\n",
       "TIME OCC            1439\n",
       "AREA                  21\n",
       "AREA NAME             21\n",
       "Rpt Dist No         1185\n",
       "Crm Cd               135\n",
       "Crm Cd Desc          135\n",
       "Vict Age             101\n",
       "Vict Sex               2\n",
       "Vict Descent          20\n",
       "Premis Cd            310\n",
       "Premis Desc          303\n",
       "Weapon Used Cd        79\n",
       "Weapon Desc           79\n",
       "Status                 6\n",
       "Status Desc            6\n",
       "Crm Cd 1             136\n",
       "Crm Cd 2             119\n",
       "Crm Cd 3              36\n",
       "Crm Cd 4               6\n",
       "LOCATION           59139\n",
       "LAT                 5283\n",
       "LON                 4957\n",
       "dtype: int64"
      ]
     },
     "execution_count": 14,
     "metadata": {},
     "output_type": "execute_result"
    }
   ],
   "source": [
    "# Unique number of each attributes in the dataset. DR_NO can possibly be used as a PRIMARY KEY or UNIQUE KEY if we'll need to perhaps join the dataset with another dataset.\n",
    "\n",
    "crime_data.nunique()"
   ]
  },
  {
   "cell_type": "code",
   "execution_count": 15,
   "metadata": {},
   "outputs": [
    {
     "data": {
      "text/plain": [
       "H    243458\n",
       "W    152916\n",
       "B    113739\n",
       "O     53438\n",
       "A     17374\n",
       "X      6002\n",
       "K      4270\n",
       "F      3301\n",
       "C      3075\n",
       "J      1119\n",
       "V       820\n",
       "I       759\n",
       "Z       407\n",
       "P       214\n",
       "U       134\n",
       "D        59\n",
       "G        55\n",
       "L        48\n",
       "S        40\n",
       "-         1\n",
       "Name: Vict Descent, dtype: int64"
      ]
     },
     "execution_count": 15,
     "metadata": {},
     "output_type": "execute_result"
    }
   ],
   "source": [
    "# Checking for distinct categories of victim's descent. According to the documentation, there should be 19 distinct categories.\n",
    "\n",
    "crime_data['Vict Descent'].value_counts()"
   ]
  },
  {
   "cell_type": "code",
   "execution_count": 16,
   "metadata": {},
   "outputs": [],
   "source": [
    "# Dropped the 'X' and '-' descent categories. Again 'X' means unknown descent and '-' is probably a typographic error.\n",
    "\n",
    "crime_data = crime_data.drop(crime_data[crime_data['Vict Descent'] == 'X'].index)\n",
    "crime_data = crime_data.drop(crime_data[crime_data['Vict Descent'] == '-'].index)"
   ]
  },
  {
   "cell_type": "code",
   "execution_count": 17,
   "metadata": {},
   "outputs": [
    {
     "data": {
      "text/plain": [
       "(595255, 25)"
      ]
     },
     "execution_count": 17,
     "metadata": {},
     "output_type": "execute_result"
    }
   ],
   "source": [
    "crime_data.shape"
   ]
  },
  {
   "cell_type": "code",
   "execution_count": 18,
   "metadata": {},
   "outputs": [
    {
     "data": {
      "text/plain": [
       "DR_NO               int64\n",
       "Date Rptd          object\n",
       "DATE OCC           object\n",
       "TIME OCC            int64\n",
       "AREA                int64\n",
       "AREA NAME          object\n",
       "Rpt Dist No         int64\n",
       "Crm Cd              int64\n",
       "Crm Cd Desc        object\n",
       "Vict Age            int64\n",
       "Vict Sex           object\n",
       "Vict Descent       object\n",
       "Premis Cd         float64\n",
       "Premis Desc        object\n",
       "Weapon Used Cd    float64\n",
       "Weapon Desc        object\n",
       "Status             object\n",
       "Status Desc        object\n",
       "Crm Cd 1          float64\n",
       "Crm Cd 2          float64\n",
       "Crm Cd 3          float64\n",
       "Crm Cd 4          float64\n",
       "LOCATION           object\n",
       "LAT               float64\n",
       "LON               float64\n",
       "dtype: object"
      ]
     },
     "execution_count": 18,
     "metadata": {},
     "output_type": "execute_result"
    }
   ],
   "source": [
    "# Checking for the datatypes of each column. Date Rptd and DATE OCC is supposed to be datetime while TIME OCC is supposed to be also supposed to be datetime\n",
    "\n",
    "crime_data.dtypes"
   ]
  },
  {
   "cell_type": "code",
   "execution_count": 19,
   "metadata": {},
   "outputs": [],
   "source": [
    "# Chaning the type of the date and time columns to pandas datetime datatype\n",
    "\n",
    "crime_data['Date Rptd'] = pd.to_datetime(crime_data['Date Rptd'])\n",
    "crime_data['DATE OCC'] = pd.to_datetime(crime_data['DATE OCC'])\n",
    "crime_data['TIME OCC'] = crime_data['TIME OCC'].astype('str')\n",
    "crime_data['TIME OCC'] = crime_data['TIME OCC'].str.zfill(4)\n",
    "crime_data['TIME OCC'] = pd.to_datetime(crime_data['TIME OCC'], format='%H%M').dt.time"
   ]
  },
  {
   "cell_type": "code",
   "execution_count": 20,
   "metadata": {},
   "outputs": [],
   "source": [
    "# Renaming all the columns with comprehensible (readable) names.\n",
    "\n",
    "crime_data.rename(columns = {'DR_NO':'Div_Records_No', 'Date Rptd': 'Date reported', 'DATE OCC': 'Assault date', 'TIME OCC': 'Assault time', \n",
    "                             'AREA': 'Geographic area', 'AREA NAME': 'Area name', 'Rpt Dist No': 'Reported District No',\n",
    "                             'Crm Cd': 'Crime committed', 'Crm Cd Desc': 'Crime description', 'Vict Age': 'Victim\\'s age',\n",
    "                             'Vict Sex': 'Victim\\'s sex', 'Vict Descent': 'Victim\\'s race', 'Premis Cd': 'Crime location code',\n",
    "                             'Premis Desc': 'Crime location', 'Weapon Used Cd': 'Assault weapon code', 'Weapon Desc': 'Assault weapon',\n",
    "                             'Status': 'Status code', 'Status Desc': 'Investigation status', 'Crm Cd 1': 'Crime code 1', \n",
    "                             'Crm Cd 2': 'Crime code 2', 'Crm Cd 3': 'Crime code 3', 'Crm Cd 4': 'Crime code 4',\n",
    "                             'LOCATION': 'Address', 'LAT': 'Latitude', 'LON': 'Longitude'}, inplace = True)"
   ]
  },
  {
   "cell_type": "code",
   "execution_count": 21,
   "metadata": {},
   "outputs": [],
   "source": [
    "crime_data = crime_data.drop(columns=['Reported District No', 'Crime committed', 'Crime location code', 'Assault weapon code', 'Status code'])"
   ]
  },
  {
   "cell_type": "code",
   "execution_count": 22,
   "metadata": {},
   "outputs": [],
   "source": [
    "#Extracting Year\n",
    "# crime_data['year'] = crime_data['date'].dt.year\n",
    "\n",
    "#Extracting Month\n",
    "# crime_data['month'] = crime_data['date'].dt.month\n",
    "\n",
    "#Extracting passed years since the date\n",
    "crime_data['Years since assault'] = date.today().year - crime_data['Date reported'].dt.year\n",
    "\n",
    "#Extracting passed months since the date\n",
    "# crime_data['passed_months'] = (date.today().year - crime_data['Date reported'].dt.year) * 12 + date.today().month - crime_data['Date reported'].dt.month\n",
    "\n",
    "#Extracting the weekday name of the date\n",
    "crime_data['Day of crime'] = crime_data['Assault date'].dt.day_name()"
   ]
  },
  {
   "cell_type": "code",
   "execution_count": 23,
   "metadata": {},
   "outputs": [
    {
     "data": {
      "text/plain": [
       "BATTERY - SIMPLE ASSAULT                          62976\n",
       "THEFT OF IDENTITY                                 50063\n",
       "BURGLARY FROM VEHICLE                             47660\n",
       "ASSAULT WITH DEADLY WEAPON, AGGRAVATED ASSAULT    44077\n",
       "INTIMATE PARTNER - SIMPLE ASSAULT                 40203\n",
       "Name: Crime description, dtype: int64"
      ]
     },
     "execution_count": 23,
     "metadata": {},
     "output_type": "execute_result"
    }
   ],
   "source": [
    "# Analyzing the different types of crime documented in the dataset and their respectivecounts.\n",
    "\n",
    "types_of_crimes = crime_data['Crime description'].value_counts()\n",
    "types_of_crimes.head()"
   ]
  },
  {
   "cell_type": "code",
   "execution_count": 24,
   "metadata": {},
   "outputs": [
    {
     "data": {
      "text/plain": [
       "624.0    63256\n",
       "354.0    50073\n",
       "330.0    47703\n",
       "230.0    44083\n",
       "626.0    40457\n",
       "Name: Crime code 1, dtype: int64"
      ]
     },
     "execution_count": 24,
     "metadata": {},
     "output_type": "execute_result"
    }
   ],
   "source": [
    "# Analyzing the severity of crimes according to the crime codes. Lower numbers correspond to more severe crimes.\n",
    "\n",
    "severity_of_crimes = crime_data['Crime code 1'].value_counts()\n",
    "severity_of_crimes.head()"
   ]
  },
  {
   "cell_type": "code",
   "execution_count": 25,
   "metadata": {},
   "outputs": [
    {
     "data": {
      "text/plain": [
       "SINGLE FAMILY DWELLING                          133549\n",
       "STREET                                          110687\n",
       "MULTI-UNIT DWELLING (APARTMENT, DUPLEX, ETC)     93814\n",
       "PARKING LOT                                      38560\n",
       "SIDEWALK                                         32274\n",
       "Name: Crime location, dtype: int64"
      ]
     },
     "execution_count": 25,
     "metadata": {},
     "output_type": "execute_result"
    }
   ],
   "source": [
    "# Analyzing crimes by the type of environment where the crime took place\n",
    "\n",
    "crimes_by_location = crime_data['Crime location'].value_counts()\n",
    "crimes_by_location.head()"
   ]
  },
  {
   "cell_type": "code",
   "execution_count": 26,
   "metadata": {},
   "outputs": [
    {
     "data": {
      "text/plain": [
       "STRONG-ARM (HANDS, FIST, FEET OR BODILY FORCE)    141953\n",
       "UNKNOWN WEAPON/OTHER WEAPON                        25182\n",
       "VERBAL THREAT                                      19005\n",
       "HAND GUN                                           14663\n",
       "KNIFE WITH BLADE 6INCHES OR LESS                    5516\n",
       "Name: Assault weapon, dtype: int64"
      ]
     },
     "execution_count": 26,
     "metadata": {},
     "output_type": "execute_result"
    }
   ],
   "source": [
    "# Analyzing crimes by the assault weapon used\n",
    "\n",
    "assault_weapons_used = crime_data['Assault weapon'].value_counts()\n",
    "assault_weapons_used.head()"
   ]
  },
  {
   "cell_type": "code",
   "execution_count": 27,
   "metadata": {},
   "outputs": [
    {
     "data": {
      "text/plain": [
       "Central        42620\n",
       "77th Street    38594\n",
       "Pacific        33873\n",
       "Southwest      33710\n",
       "Hollywood      32290\n",
       "Southeast      30867\n",
       "Olympic        29607\n",
       "N Hollywood    29130\n",
       "Wilshire       28223\n",
       "Newton         28106\n",
       "West LA        27707\n",
       "Van Nuys       27364\n",
       "Rampart        27291\n",
       "West Valley    25251\n",
       "Topanga        24666\n",
       "Northeast      24360\n",
       "Mission        24204\n",
       "Devonshire     23373\n",
       "Harbor         22974\n",
       "Foothill       20561\n",
       "Hollenbeck     20484\n",
       "Name: Area name, dtype: int64"
      ]
     },
     "execution_count": 27,
     "metadata": {},
     "output_type": "execute_result"
    }
   ],
   "source": [
    "# Analyzing crimes by the geographic area names\n",
    "\n",
    "crimes_geographic_area = crime_data['Area name'].value_counts()\n",
    "crimes_geographic_area"
   ]
  },
  {
   "cell_type": "code",
   "execution_count": 28,
   "metadata": {},
   "outputs": [
    {
     "data": {
      "text/plain": [
       "0"
      ]
     },
     "execution_count": 28,
     "metadata": {},
     "output_type": "execute_result"
    }
   ],
   "source": [
    "# Looking for any duplicates in the dataset.\n",
    "\n",
    "# crime_data_d = crime_data.copy()\n",
    "# crime_data_d.drop_duplicates(subset=None, inplace=True)\n",
    "\n",
    "# crime_data_d.shape\n",
    "\n",
    "# del crime_data_d\n",
    "\n",
    "\n",
    "crime_data.duplicated().sum()"
   ]
  },
  {
   "cell_type": "code",
   "execution_count": 29,
   "metadata": {},
   "outputs": [
    {
     "data": {
      "text/html": [
       "<div>\n",
       "<style scoped>\n",
       "    .dataframe tbody tr th:only-of-type {\n",
       "        vertical-align: middle;\n",
       "    }\n",
       "\n",
       "    .dataframe tbody tr th {\n",
       "        vertical-align: top;\n",
       "    }\n",
       "\n",
       "    .dataframe thead th {\n",
       "        text-align: right;\n",
       "    }\n",
       "</style>\n",
       "<table border=\"1\" class=\"dataframe\">\n",
       "  <thead>\n",
       "    <tr style=\"text-align: right;\">\n",
       "      <th>Victim's race</th>\n",
       "      <th>A</th>\n",
       "      <th>B</th>\n",
       "      <th>C</th>\n",
       "      <th>D</th>\n",
       "      <th>F</th>\n",
       "      <th>G</th>\n",
       "      <th>H</th>\n",
       "      <th>I</th>\n",
       "      <th>J</th>\n",
       "      <th>K</th>\n",
       "      <th>L</th>\n",
       "      <th>O</th>\n",
       "      <th>P</th>\n",
       "      <th>S</th>\n",
       "      <th>U</th>\n",
       "      <th>V</th>\n",
       "      <th>W</th>\n",
       "      <th>Z</th>\n",
       "    </tr>\n",
       "    <tr>\n",
       "      <th>Victim's sex</th>\n",
       "      <th></th>\n",
       "      <th></th>\n",
       "      <th></th>\n",
       "      <th></th>\n",
       "      <th></th>\n",
       "      <th></th>\n",
       "      <th></th>\n",
       "      <th></th>\n",
       "      <th></th>\n",
       "      <th></th>\n",
       "      <th></th>\n",
       "      <th></th>\n",
       "      <th></th>\n",
       "      <th></th>\n",
       "      <th></th>\n",
       "      <th></th>\n",
       "      <th></th>\n",
       "      <th></th>\n",
       "    </tr>\n",
       "  </thead>\n",
       "  <tbody>\n",
       "    <tr>\n",
       "      <th>F</th>\n",
       "      <td>8440</td>\n",
       "      <td>63954</td>\n",
       "      <td>1474</td>\n",
       "      <td>28</td>\n",
       "      <td>1629</td>\n",
       "      <td>29</td>\n",
       "      <td>123266</td>\n",
       "      <td>331</td>\n",
       "      <td>554</td>\n",
       "      <td>1980</td>\n",
       "      <td>34</td>\n",
       "      <td>22097</td>\n",
       "      <td>118</td>\n",
       "      <td>22</td>\n",
       "      <td>68</td>\n",
       "      <td>430</td>\n",
       "      <td>68769</td>\n",
       "      <td>155</td>\n",
       "    </tr>\n",
       "    <tr>\n",
       "      <th>M</th>\n",
       "      <td>8934</td>\n",
       "      <td>49784</td>\n",
       "      <td>1601</td>\n",
       "      <td>31</td>\n",
       "      <td>1672</td>\n",
       "      <td>26</td>\n",
       "      <td>120191</td>\n",
       "      <td>428</td>\n",
       "      <td>565</td>\n",
       "      <td>2290</td>\n",
       "      <td>14</td>\n",
       "      <td>31341</td>\n",
       "      <td>96</td>\n",
       "      <td>18</td>\n",
       "      <td>66</td>\n",
       "      <td>390</td>\n",
       "      <td>84145</td>\n",
       "      <td>252</td>\n",
       "    </tr>\n",
       "  </tbody>\n",
       "</table>\n",
       "</div>"
      ],
      "text/plain": [
       "Victim's race     A      B     C   D     F   G       H    I    J     K   L  \\\n",
       "Victim's sex                                                                 \n",
       "F              8440  63954  1474  28  1629  29  123266  331  554  1980  34   \n",
       "M              8934  49784  1601  31  1672  26  120191  428  565  2290  14   \n",
       "\n",
       "Victim's race      O    P   S   U    V      W    Z  \n",
       "Victim's sex                                        \n",
       "F              22097  118  22  68  430  68769  155  \n",
       "M              31341   96  18  66  390  84145  252  "
      ]
     },
     "execution_count": 29,
     "metadata": {},
     "output_type": "execute_result"
    }
   ],
   "source": [
    "# Checking for the number of assault on each victim's descent classified by sex\n",
    "\n",
    "first_contingency = pd.crosstab(crime_data['Victim\\'s sex'], crime_data['Victim\\'s race'])\n",
    "first_contingency"
   ]
  },
  {
   "cell_type": "code",
   "execution_count": 30,
   "metadata": {},
   "outputs": [
    {
     "data": {
      "text/html": [
       "<div>\n",
       "<style scoped>\n",
       "    .dataframe tbody tr th:only-of-type {\n",
       "        vertical-align: middle;\n",
       "    }\n",
       "\n",
       "    .dataframe tbody tr th {\n",
       "        vertical-align: top;\n",
       "    }\n",
       "\n",
       "    .dataframe thead th {\n",
       "        text-align: right;\n",
       "    }\n",
       "</style>\n",
       "<table border=\"1\" class=\"dataframe\">\n",
       "  <thead>\n",
       "    <tr style=\"text-align: right;\">\n",
       "      <th>Investigation status</th>\n",
       "      <th>Adult Arrest</th>\n",
       "      <th>Adult Other</th>\n",
       "      <th>Invest Cont</th>\n",
       "      <th>Juv Arrest</th>\n",
       "      <th>Juv Other</th>\n",
       "      <th>UNK</th>\n",
       "    </tr>\n",
       "    <tr>\n",
       "      <th>Victim's sex</th>\n",
       "      <th></th>\n",
       "      <th></th>\n",
       "      <th></th>\n",
       "      <th></th>\n",
       "      <th></th>\n",
       "      <th></th>\n",
       "    </tr>\n",
       "  </thead>\n",
       "  <tbody>\n",
       "    <tr>\n",
       "      <th>F</th>\n",
       "      <td>28650</td>\n",
       "      <td>46269</td>\n",
       "      <td>216870</td>\n",
       "      <td>913</td>\n",
       "      <td>678</td>\n",
       "      <td>1</td>\n",
       "    </tr>\n",
       "    <tr>\n",
       "      <th>M</th>\n",
       "      <td>25088</td>\n",
       "      <td>32630</td>\n",
       "      <td>242642</td>\n",
       "      <td>1025</td>\n",
       "      <td>457</td>\n",
       "      <td>2</td>\n",
       "    </tr>\n",
       "  </tbody>\n",
       "</table>\n",
       "</div>"
      ],
      "text/plain": [
       "Investigation status  Adult Arrest  Adult Other  Invest Cont  Juv Arrest  \\\n",
       "Victim's sex                                                               \n",
       "F                            28650        46269       216870         913   \n",
       "M                            25088        32630       242642        1025   \n",
       "\n",
       "Investigation status  Juv Other  UNK  \n",
       "Victim's sex                          \n",
       "F                           678    1  \n",
       "M                           457    2  "
      ]
     },
     "execution_count": 30,
     "metadata": {},
     "output_type": "execute_result"
    }
   ],
   "source": [
    "# Checking for the number of investigation status classified by sex\n",
    "\n",
    "second_contingency = pd.crosstab(crime_data['Victim\\'s sex'], crime_data['Investigation status'])\n",
    "second_contingency"
   ]
  },
  {
   "cell_type": "code",
   "execution_count": 31,
   "metadata": {},
   "outputs": [
    {
     "data": {
      "text/plain": [
       "<Axes: >"
      ]
     },
     "execution_count": 31,
     "metadata": {},
     "output_type": "execute_result"
    },
    {
     "data": {
      "image/png": "[encoded data removed]",
      "text/plain": [
       "<Figure size 640x480 with 1 Axes>"
      ]
     },
     "metadata": {},
     "output_type": "display_data"
    }
   ],
   "source": [
    "# Checking for outliers in age column\n",
    "\n",
    "sns.boxplot(crime_data['Victim\\'s age'])\n",
    "# plt.gca().invert_xaxis()"
   ]
  },
  {
   "cell_type": "code",
   "execution_count": 32,
   "metadata": {},
   "outputs": [],
   "source": [
    "crime_data = crime_data.drop(crime_data[crime_data['Victim\\'s age'] > 82].index)\n",
    "\n",
    "# There are only 4275 records of victim's age above 82. I don't think this will be significant. Do you think we should include this in our study?"
   ]
  },
  {
   "cell_type": "code",
   "execution_count": 34,
   "metadata": {},
   "outputs": [],
   "source": [
    "# Filtering the data by dropping the Crime codes 2 - 4 columns and deleting rows where age is negative.\n",
    "\n",
    "crime_data = crime_data.drop(columns=['Crime code 2', 'Crime code 3', 'Crime code 4'])\n",
    "crime_data = crime_data.drop(crime_data[crime_data['Victim\\'s age'] < 0].index)"
   ]
  },
  {
   "cell_type": "code",
   "execution_count": 35,
   "metadata": {},
   "outputs": [
    {
     "data": {
      "text/plain": [
       "Div_Records_No               0\n",
       "Date reported                0\n",
       "Assault date                 0\n",
       "Assault time                 0\n",
       "Geographic area              0\n",
       "Area name                    0\n",
       "Crime description            0\n",
       "Victim's age                 0\n",
       "Victim's sex                28\n",
       "Victim's race               27\n",
       "Crime location             147\n",
       "Assault weapon          336699\n",
       "Investigation status         0\n",
       "Crime code 1                 5\n",
       "Address                      0\n",
       "Latitude                     0\n",
       "Longitude                    0\n",
       "Years since assault          0\n",
       "Day of crime                 0\n",
       "dtype: int64"
      ]
     },
     "execution_count": 35,
     "metadata": {},
     "output_type": "execute_result"
    }
   ],
   "source": [
    "crime_data.isnull().sum()"
   ]
  },
  {
   "cell_type": "code",
   "execution_count": 36,
   "metadata": {},
   "outputs": [],
   "source": [
    "# Filling null crime location with unknown\n",
    "\n",
    "crime_data['Crime location'].fillna('Unknown', inplace=True)\n",
    "# crime_data['Assault weapon code'].fillna('Unknown', inplace=True)\n",
    "crime_data['Assault weapon'].fillna('Unknown', inplace=True)\n",
    "# crime_data.fillna(crime_data['Crime location'].value_counts().idxmax(), inplace=True)"
   ]
  },
  {
   "cell_type": "code",
   "execution_count": 37,
   "metadata": {},
   "outputs": [
    {
     "data": {
      "text/plain": [
       "Div_Records_No           0\n",
       "Date reported            0\n",
       "Assault date             0\n",
       "Assault time             0\n",
       "Geographic area          0\n",
       "Area name                0\n",
       "Crime description        0\n",
       "Victim's age             0\n",
       "Victim's sex            28\n",
       "Victim's race           27\n",
       "Crime location           0\n",
       "Assault weapon           0\n",
       "Investigation status     0\n",
       "Crime code 1             5\n",
       "Address                  0\n",
       "Latitude                 0\n",
       "Longitude                0\n",
       "Years since assault      0\n",
       "Day of crime             0\n",
       "dtype: int64"
      ]
     },
     "execution_count": 37,
     "metadata": {},
     "output_type": "execute_result"
    }
   ],
   "source": [
    "crime_data.isnull().sum()"
   ]
  },
  {
   "cell_type": "code",
   "execution_count": 38,
   "metadata": {},
   "outputs": [],
   "source": [
    "crime_data = crime_data.dropna()"
   ]
  },
  {
   "cell_type": "code",
   "execution_count": 39,
   "metadata": {},
   "outputs": [
    {
     "data": {
      "text/plain": [
       "(590924, 19)"
      ]
     },
     "execution_count": 39,
     "metadata": {},
     "output_type": "execute_result"
    }
   ],
   "source": [
    "crime_data.shape"
   ]
  },
  {
   "cell_type": "code",
   "execution_count": 40,
   "metadata": {},
   "outputs": [
    {
     "data": {
      "text/plain": [
       "Div_Records_No  Date reported  Assault date  Assault time  Geographic area  Area name  Crime description                               Victim's age  Victim's sex  Victim's race  Crime location                                Assault weapon                                  Investigation status  Crime code 1  Address                                   Latitude  Longitude  Years since assault  Day of crime\n",
       "200109774       2020-03-28     2020-03-28    11:55:00      1                Central    BRANDISH WEAPON                                 21            M             H              SIDEWALK                                      KITCHEN KNIFE                                   Invest Cont           761.0         8TH                                       0.0       0.0        3                    Saturday        1\n",
       "210907283       2021-03-23     2021-03-23    13:55:00      9                Van Nuys   OTHER MISCELLANEOUS CRIME                       33            M             H              STREET                                        Unknown                                         Invest Cont           946.0         14900    VANOWEN                      ST  0.0       0.0        2                    Tuesday         1\n",
       "210910390       2021-06-11     2021-06-11    10:40:00      9                Van Nuys   VIOLATION OF RESTRAINING ORDER                  42            F             H              DRIVEWAY                                      Unknown                                         Invest Cont           901.0         14900    VOSE                         ST  0.0       0.0        2                    Friday          1\n",
       "210910350       2021-06-10     2021-06-10    11:10:00      9                Van Nuys   TRESPASSING                                     69            M             W              SINGLE FAMILY DWELLING                        Unknown                                         Invest Cont           888.0         BURNET                       ST           0.0       0.0        2                    Thursday        1\n",
       "210910080       2021-06-03     2021-06-03    16:45:00      9                Van Nuys   INTIMATE PARTNER - SIMPLE ASSAULT               33            F             H              MULTI-UNIT DWELLING (APARTMENT, DUPLEX, ETC)  STRONG-ARM (HANDS, FIST, FEET OR BODILY FORCE)  Invest Cont           626.0         14600    SYLVAN                       ST  0.0       0.0        2                    Thursday        1\n",
       "                                                                                                                                                                                                                                                                                                                                                                                                                       ..\n",
       "210107063       2021-03-06     2021-03-06    10:30:00      1                Central    CHILD ABUSE (PHYSICAL) - SIMPLE ASSAULT         17            F             W              STREET                                        STRONG-ARM (HANDS, FIST, FEET OR BODILY FORCE)  Invest Cont           627.0         700    LOOKOUT                      DR    0.0       0.0        2                    Saturday        1\n",
       "210107054       2021-03-06     2021-03-06    11:40:00      1                Central    TRESPASSING                                     30            M             H              STREET                                        Unknown                                         Invest Cont           888.0         700 S  FIGUEROA                     ST    0.0       0.0        2                    Saturday        1\n",
       "210106862       2021-03-02     2021-03-02    11:20:00      1                Central    TRESPASSING                                     24            F             H              HOTEL                                         Unknown                                         Invest Cont           888.0         100 S  LOS ANGELES                  ST    0.0       0.0        2                    Tuesday         1\n",
       "210106679       2021-02-26     2021-02-26    15:55:00      1                Central    BATTERY WITH SEXUAL CONTACT                     19            F             H              MTA BUS                                       STRONG-ARM (HANDS, FIST, FEET OR BODILY FORCE)  Invest Cont           860.0         9TH                                       0.0       0.0        2                    Friday          1\n",
       "231611142       2023-08-16     2023-08-16    20:10:00      16               Foothill   ASSAULT WITH DEADLY WEAPON, AGGRAVATED ASSAULT  53            M             W              STREET                                        STICK                                           Adult Other           230.0         PENDLETON                                 0.0       0.0        0                    Wednesday       1\n",
       "Length: 1659, dtype: int64"
      ]
     },
     "execution_count": 40,
     "metadata": {},
     "output_type": "execute_result"
    }
   ],
   "source": [
    "# crime_data.groupby(by=['Latitude', 'Longitude']).value_counts()\n",
    "\n",
    "crime_data[crime_data['Latitude'] == 0].value_counts()"
   ]
  },
  {
   "cell_type": "code",
   "execution_count": 41,
   "metadata": {},
   "outputs": [],
   "source": [
    "crime_data = crime_data.drop(crime_data[crime_data['Latitude'] == 0].index)\n",
    "crime_data = crime_data.drop(crime_data[crime_data['Longitude'] == 0].index)"
   ]
  },
  {
   "cell_type": "code",
   "execution_count": 42,
   "metadata": {},
   "outputs": [
    {
     "data": {
      "text/plain": [
       "(589265, 19)"
      ]
     },
     "execution_count": 42,
     "metadata": {},
     "output_type": "execute_result"
    }
   ],
   "source": [
    "crime_data.shape"
   ]
  },
  {
   "cell_type": "code",
   "execution_count": 43,
   "metadata": {},
   "outputs": [],
   "source": [
    "crime_data['Crime code 1'] = crime_data['Crime code 1'].astype('int')"
   ]
  },
  {
   "cell_type": "code",
   "execution_count": null,
   "metadata": {},
   "outputs": [],
   "source": [
    "# yelp_data = crime_data['Latitude'].value_counts().index[:150]\n",
    "# yelp_data.head()\n",
    "\n",
    "# data_for_yelp = crime_data[crime_data['Latitude'].isin(yelp_data)]\n",
    "\n",
    "# data_for_yelp.to_csv('data_for_yelp.csv', index=False)"
   ]
  },
  {
   "cell_type": "code",
   "execution_count": null,
   "metadata": {},
   "outputs": [],
   "source": [
    "crime_data.to_csv('crime_data.csv', index=False)"
   ]
  }
 ],
 "metadata": {
  "kernelspec": {
   "display_name": "base",
   "language": "python",
   "name": "python3"
  },
  "language_info": {
   "codemirror_mode": {
    "name": "ipython",
    "version": 3
   },
   "file_extension": ".py",
   "mimetype": "text/x-python",
   "name": "python",
   "nbconvert_exporter": "python",
   "pygments_lexer": "ipython3",
   "version": "3.11.4"
  },
  "orig_nbformat": 4
 },
 "nbformat": 4,
 "nbformat_minor": 2
}
