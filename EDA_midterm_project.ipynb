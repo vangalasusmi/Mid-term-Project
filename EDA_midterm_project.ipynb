{
 "cells": [
  {
   "cell_type": "code",
   "execution_count": 62,
   "metadata": {},
   "outputs": [],
   "source": [
    "import pandas as pd\n",
    "import numpy as np\n",
    "import matplotlib.pyplot as plt\n",
    "import seaborn as sns\n",
    "import scipy.stats as st\n",
    "from datetime import date\n",
    "from datetime import datetime\n",
    "\n",
    "sns.set_theme()   \n",
    "sns.set(color_codes=True)"
   ]
  },
  {
   "cell_type": "code",
   "execution_count": 162,
   "metadata": {},
   "outputs": [],
   "source": [
    "crime_data = pd.read_csv('Crime_Data_from_2020_to_Present.csv')"
   ]
  },
  {
   "cell_type": "markdown",
   "metadata": {},
   "source": [
    "## Data Cleaning"
   ]
  },
  {
   "cell_type": "code",
   "execution_count": 163,
   "metadata": {},
   "outputs": [
    {
     "data": {
      "text/html": [
       "<div>\n",
       "<style scoped>\n",
       "    .dataframe tbody tr th:only-of-type {\n",
       "        vertical-align: middle;\n",
       "    }\n",
       "\n",
       "    .dataframe tbody tr th {\n",
       "        vertical-align: top;\n",
       "    }\n",
       "\n",
       "    .dataframe thead th {\n",
       "        text-align: right;\n",
       "    }\n",
       "</style>\n",
       "<table border=\"1\" class=\"dataframe\">\n",
       "  <thead>\n",
       "    <tr style=\"text-align: right;\">\n",
       "      <th></th>\n",
       "      <th>DR_NO</th>\n",
       "      <th>Date Rptd</th>\n",
       "      <th>DATE OCC</th>\n",
       "      <th>TIME OCC</th>\n",
       "      <th>AREA</th>\n",
       "      <th>AREA NAME</th>\n",
       "      <th>Rpt Dist No</th>\n",
       "      <th>Part 1-2</th>\n",
       "      <th>Crm Cd</th>\n",
       "      <th>Crm Cd Desc</th>\n",
       "      <th>...</th>\n",
       "      <th>Status</th>\n",
       "      <th>Status Desc</th>\n",
       "      <th>Crm Cd 1</th>\n",
       "      <th>Crm Cd 2</th>\n",
       "      <th>Crm Cd 3</th>\n",
       "      <th>Crm Cd 4</th>\n",
       "      <th>LOCATION</th>\n",
       "      <th>Cross Street</th>\n",
       "      <th>LAT</th>\n",
       "      <th>LON</th>\n",
       "    </tr>\n",
       "  </thead>\n",
       "  <tbody>\n",
       "    <tr>\n",
       "      <th>0</th>\n",
       "      <td>10304468</td>\n",
       "      <td>01/08/2020 12:00:00 AM</td>\n",
       "      <td>01/08/2020 12:00:00 AM</td>\n",
       "      <td>2230</td>\n",
       "      <td>3</td>\n",
       "      <td>Southwest</td>\n",
       "      <td>377</td>\n",
       "      <td>2</td>\n",
       "      <td>624</td>\n",
       "      <td>BATTERY - SIMPLE ASSAULT</td>\n",
       "      <td>...</td>\n",
       "      <td>AO</td>\n",
       "      <td>Adult Other</td>\n",
       "      <td>624.0</td>\n",
       "      <td>NaN</td>\n",
       "      <td>NaN</td>\n",
       "      <td>NaN</td>\n",
       "      <td>1100 W  39TH                         PL</td>\n",
       "      <td>NaN</td>\n",
       "      <td>34.0141</td>\n",
       "      <td>-118.2978</td>\n",
       "    </tr>\n",
       "    <tr>\n",
       "      <th>1</th>\n",
       "      <td>190101086</td>\n",
       "      <td>01/02/2020 12:00:00 AM</td>\n",
       "      <td>01/01/2020 12:00:00 AM</td>\n",
       "      <td>330</td>\n",
       "      <td>1</td>\n",
       "      <td>Central</td>\n",
       "      <td>163</td>\n",
       "      <td>2</td>\n",
       "      <td>624</td>\n",
       "      <td>BATTERY - SIMPLE ASSAULT</td>\n",
       "      <td>...</td>\n",
       "      <td>IC</td>\n",
       "      <td>Invest Cont</td>\n",
       "      <td>624.0</td>\n",
       "      <td>NaN</td>\n",
       "      <td>NaN</td>\n",
       "      <td>NaN</td>\n",
       "      <td>700 S  HILL                         ST</td>\n",
       "      <td>NaN</td>\n",
       "      <td>34.0459</td>\n",
       "      <td>-118.2545</td>\n",
       "    </tr>\n",
       "    <tr>\n",
       "      <th>2</th>\n",
       "      <td>200110444</td>\n",
       "      <td>04/14/2020 12:00:00 AM</td>\n",
       "      <td>02/13/2020 12:00:00 AM</td>\n",
       "      <td>1200</td>\n",
       "      <td>1</td>\n",
       "      <td>Central</td>\n",
       "      <td>155</td>\n",
       "      <td>2</td>\n",
       "      <td>845</td>\n",
       "      <td>SEX OFFENDER REGISTRANT OUT OF COMPLIANCE</td>\n",
       "      <td>...</td>\n",
       "      <td>AA</td>\n",
       "      <td>Adult Arrest</td>\n",
       "      <td>845.0</td>\n",
       "      <td>NaN</td>\n",
       "      <td>NaN</td>\n",
       "      <td>NaN</td>\n",
       "      <td>200 E  6TH                          ST</td>\n",
       "      <td>NaN</td>\n",
       "      <td>34.0448</td>\n",
       "      <td>-118.2474</td>\n",
       "    </tr>\n",
       "    <tr>\n",
       "      <th>3</th>\n",
       "      <td>191501505</td>\n",
       "      <td>01/01/2020 12:00:00 AM</td>\n",
       "      <td>01/01/2020 12:00:00 AM</td>\n",
       "      <td>1730</td>\n",
       "      <td>15</td>\n",
       "      <td>N Hollywood</td>\n",
       "      <td>1543</td>\n",
       "      <td>2</td>\n",
       "      <td>745</td>\n",
       "      <td>VANDALISM - MISDEAMEANOR ($399 OR UNDER)</td>\n",
       "      <td>...</td>\n",
       "      <td>IC</td>\n",
       "      <td>Invest Cont</td>\n",
       "      <td>745.0</td>\n",
       "      <td>998.0</td>\n",
       "      <td>NaN</td>\n",
       "      <td>NaN</td>\n",
       "      <td>5400    CORTEEN                      PL</td>\n",
       "      <td>NaN</td>\n",
       "      <td>34.1685</td>\n",
       "      <td>-118.4019</td>\n",
       "    </tr>\n",
       "    <tr>\n",
       "      <th>4</th>\n",
       "      <td>191921269</td>\n",
       "      <td>01/01/2020 12:00:00 AM</td>\n",
       "      <td>01/01/2020 12:00:00 AM</td>\n",
       "      <td>415</td>\n",
       "      <td>19</td>\n",
       "      <td>Mission</td>\n",
       "      <td>1998</td>\n",
       "      <td>2</td>\n",
       "      <td>740</td>\n",
       "      <td>VANDALISM - FELONY ($400 &amp; OVER, ALL CHURCH VA...</td>\n",
       "      <td>...</td>\n",
       "      <td>IC</td>\n",
       "      <td>Invest Cont</td>\n",
       "      <td>740.0</td>\n",
       "      <td>NaN</td>\n",
       "      <td>NaN</td>\n",
       "      <td>NaN</td>\n",
       "      <td>14400    TITUS                        ST</td>\n",
       "      <td>NaN</td>\n",
       "      <td>34.2198</td>\n",
       "      <td>-118.4468</td>\n",
       "    </tr>\n",
       "  </tbody>\n",
       "</table>\n",
       "<p>5 rows × 28 columns</p>\n",
       "</div>"
      ],
      "text/plain": [
       "       DR_NO               Date Rptd                DATE OCC  TIME OCC  AREA  \\\n",
       "0   10304468  01/08/2020 12:00:00 AM  01/08/2020 12:00:00 AM      2230     3   \n",
       "1  190101086  01/02/2020 12:00:00 AM  01/01/2020 12:00:00 AM       330     1   \n",
       "2  200110444  04/14/2020 12:00:00 AM  02/13/2020 12:00:00 AM      1200     1   \n",
       "3  191501505  01/01/2020 12:00:00 AM  01/01/2020 12:00:00 AM      1730    15   \n",
       "4  191921269  01/01/2020 12:00:00 AM  01/01/2020 12:00:00 AM       415    19   \n",
       "\n",
       "     AREA NAME  Rpt Dist No  Part 1-2  Crm Cd  \\\n",
       "0    Southwest          377         2     624   \n",
       "1      Central          163         2     624   \n",
       "2      Central          155         2     845   \n",
       "3  N Hollywood         1543         2     745   \n",
       "4      Mission         1998         2     740   \n",
       "\n",
       "                                         Crm Cd Desc  ... Status  \\\n",
       "0                           BATTERY - SIMPLE ASSAULT  ...     AO   \n",
       "1                           BATTERY - SIMPLE ASSAULT  ...     IC   \n",
       "2          SEX OFFENDER REGISTRANT OUT OF COMPLIANCE  ...     AA   \n",
       "3           VANDALISM - MISDEAMEANOR ($399 OR UNDER)  ...     IC   \n",
       "4  VANDALISM - FELONY ($400 & OVER, ALL CHURCH VA...  ...     IC   \n",
       "\n",
       "    Status Desc Crm Cd 1 Crm Cd 2  Crm Cd 3 Crm Cd 4  \\\n",
       "0   Adult Other    624.0      NaN       NaN      NaN   \n",
       "1   Invest Cont    624.0      NaN       NaN      NaN   \n",
       "2  Adult Arrest    845.0      NaN       NaN      NaN   \n",
       "3   Invest Cont    745.0    998.0       NaN      NaN   \n",
       "4   Invest Cont    740.0      NaN       NaN      NaN   \n",
       "\n",
       "                                   LOCATION Cross Street      LAT       LON  \n",
       "0   1100 W  39TH                         PL          NaN  34.0141 -118.2978  \n",
       "1    700 S  HILL                         ST          NaN  34.0459 -118.2545  \n",
       "2    200 E  6TH                          ST          NaN  34.0448 -118.2474  \n",
       "3   5400    CORTEEN                      PL          NaN  34.1685 -118.4019  \n",
       "4  14400    TITUS                        ST          NaN  34.2198 -118.4468  \n",
       "\n",
       "[5 rows x 28 columns]"
      ]
     },
     "execution_count": 163,
     "metadata": {},
     "output_type": "execute_result"
    }
   ],
   "source": [
    "crime_data.head()"
   ]
  },
  {
   "cell_type": "code",
   "execution_count": 164,
   "metadata": {},
   "outputs": [],
   "source": [
    "# So, I went through the explanations for each of the columns in this link https://data.lacity.org/Public-Safety/Crime-Data-from-2020-to-Present/2nrs-mtv8\n",
    "# Found that these columns don't really have any contribution to our predictive analysis.\n",
    "# Part 1-2 is vague, most of the entries in Cross Street is NaN, Mocodes doesn't have any meaning to our study.\n",
    "\n",
    "crime_data = crime_data.drop(columns=['Part 1-2', 'Cross Street', 'Mocodes'])"
   ]
  },
  {
   "cell_type": "code",
   "execution_count": 165,
   "metadata": {},
   "outputs": [],
   "source": [
    "# Since age of the victims is a vital feature to our study, it wouldn't make sense to have Age = 0 (according to the official documentation means the age was unknown)\n",
    "\n",
    "crime_data = crime_data.drop(crime_data[crime_data['Vict Age'] == 0].index)"
   ]
  },
  {
   "cell_type": "code",
   "execution_count": 166,
   "metadata": {},
   "outputs": [
    {
     "data": {
      "text/plain": [
       "DR_NO                  0\n",
       "Date Rptd              0\n",
       "DATE OCC               0\n",
       "TIME OCC               0\n",
       "AREA                   0\n",
       "AREA NAME              0\n",
       "Rpt Dist No            0\n",
       "Crm Cd                 0\n",
       "Crm Cd Desc            0\n",
       "Vict Age               0\n",
       "Vict Sex              30\n",
       "Vict Descent          29\n",
       "Premis Cd              0\n",
       "Premis Desc          182\n",
       "Weapon Used Cd    349955\n",
       "Weapon Desc       349955\n",
       "Status                 0\n",
       "Status Desc            0\n",
       "Crm Cd 1               5\n",
       "Crm Cd 2          561755\n",
       "Crm Cd 3          606851\n",
       "Crm Cd 4          608654\n",
       "LOCATION               0\n",
       "LAT                    0\n",
       "LON                    0\n",
       "dtype: int64"
      ]
     },
     "execution_count": 166,
     "metadata": {},
     "output_type": "execute_result"
    }
   ],
   "source": [
    "# Checking for number of null values across each column\n",
    "\n",
    "crime_data.isnull().sum()"
   ]
  },
  {
   "cell_type": "code",
   "execution_count": 167,
   "metadata": {},
   "outputs": [
    {
     "data": {
      "text/plain": [
       "(608710, 25)"
      ]
     },
     "execution_count": 167,
     "metadata": {},
     "output_type": "execute_result"
    }
   ],
   "source": [
    "crime_data.shape"
   ]
  },
  {
   "cell_type": "code",
   "execution_count": 168,
   "metadata": {},
   "outputs": [
    {
     "data": {
      "text/plain": [
       "DR_NO             608710\n",
       "Date Rptd           1364\n",
       "DATE OCC            1364\n",
       "TIME OCC            1439\n",
       "AREA                  21\n",
       "AREA NAME             21\n",
       "Rpt Dist No         1186\n",
       "Crm Cd               135\n",
       "Crm Cd Desc          135\n",
       "Vict Age             102\n",
       "Vict Sex               4\n",
       "Vict Descent          20\n",
       "Premis Cd            310\n",
       "Premis Desc          303\n",
       "Weapon Used Cd        79\n",
       "Weapon Desc           79\n",
       "Status                 6\n",
       "Status Desc            6\n",
       "Crm Cd 1             136\n",
       "Crm Cd 2             119\n",
       "Crm Cd 3              36\n",
       "Crm Cd 4               6\n",
       "LOCATION           59221\n",
       "LAT                 5283\n",
       "LON                 4957\n",
       "dtype: int64"
      ]
     },
     "execution_count": 168,
     "metadata": {},
     "output_type": "execute_result"
    }
   ],
   "source": [
    "# Checking for unique values across columns. DR_NO can be used as PRIMARY KEY and/or UNIQUE KEY\n",
    "\n",
    "crime_data.nunique()"
   ]
  },
  {
   "cell_type": "code",
   "execution_count": 169,
   "metadata": {},
   "outputs": [
    {
     "data": {
      "text/plain": [
       "M    306916\n",
       "F    294312\n",
       "X      7365\n",
       "H        87\n",
       "Name: Vict Sex, dtype: int64"
      ]
     },
     "execution_count": 169,
     "metadata": {},
     "output_type": "execute_result"
    }
   ],
   "source": [
    "# Checking for distinct categories of victim's sex\n",
    "\n",
    "crime_data['Vict Sex'].value_counts()"
   ]
  },
  {
   "cell_type": "code",
   "execution_count": 170,
   "metadata": {},
   "outputs": [],
   "source": [
    "# The study will prove most effective if we have only two categories of sex. 'X' means the sex is unknown and I don't have any idea what 'H' means.\n",
    "\n",
    "crime_data = crime_data.drop(crime_data[crime_data['Vict Sex'] == 'X'].index)\n",
    "crime_data = crime_data.drop(crime_data[crime_data['Vict Sex'] == 'H'].index)"
   ]
  },
  {
   "cell_type": "code",
   "execution_count": 171,
   "metadata": {},
   "outputs": [
    {
     "data": {
      "text/plain": [
       "DR_NO             601258\n",
       "Date Rptd           1364\n",
       "DATE OCC            1364\n",
       "TIME OCC            1439\n",
       "AREA                  21\n",
       "AREA NAME             21\n",
       "Rpt Dist No         1185\n",
       "Crm Cd               135\n",
       "Crm Cd Desc          135\n",
       "Vict Age             101\n",
       "Vict Sex               2\n",
       "Vict Descent          20\n",
       "Premis Cd            310\n",
       "Premis Desc          303\n",
       "Weapon Used Cd        79\n",
       "Weapon Desc           79\n",
       "Status                 6\n",
       "Status Desc            6\n",
       "Crm Cd 1             136\n",
       "Crm Cd 2             119\n",
       "Crm Cd 3              36\n",
       "Crm Cd 4               6\n",
       "LOCATION           59139\n",
       "LAT                 5283\n",
       "LON                 4957\n",
       "dtype: int64"
      ]
     },
     "execution_count": 171,
     "metadata": {},
     "output_type": "execute_result"
    }
   ],
   "source": [
    "crime_data.nunique()"
   ]
  },
  {
   "cell_type": "code",
   "execution_count": 172,
   "metadata": {},
   "outputs": [
    {
     "data": {
      "text/plain": [
       "H    243458\n",
       "W    152916\n",
       "B    113739\n",
       "O     53438\n",
       "A     17374\n",
       "X      6002\n",
       "K      4270\n",
       "F      3301\n",
       "C      3075\n",
       "J      1119\n",
       "V       820\n",
       "I       759\n",
       "Z       407\n",
       "P       214\n",
       "U       134\n",
       "D        59\n",
       "G        55\n",
       "L        48\n",
       "S        40\n",
       "-         1\n",
       "Name: Vict Descent, dtype: int64"
      ]
     },
     "execution_count": 172,
     "metadata": {},
     "output_type": "execute_result"
    }
   ],
   "source": [
    "# Checking for distinct categories of victim's descent. According to the documentation, there should be 19 distinct categories.\n",
    "\n",
    "crime_data['Vict Descent'].value_counts()"
   ]
  },
  {
   "cell_type": "code",
   "execution_count": 173,
   "metadata": {},
   "outputs": [],
   "source": [
    "# Dropped the 'X' and '-' descent categories. Again 'X' means unknown descent and '-' is probably a typographic error.\n",
    "\n",
    "crime_data = crime_data.drop(crime_data[crime_data['Vict Descent'] == 'X'].index)\n",
    "crime_data = crime_data.drop(crime_data[crime_data['Vict Descent'] == '-'].index)"
   ]
  },
  {
   "cell_type": "code",
   "execution_count": 174,
   "metadata": {},
   "outputs": [
    {
     "data": {
      "text/plain": [
       "(595255, 25)"
      ]
     },
     "execution_count": 174,
     "metadata": {},
     "output_type": "execute_result"
    }
   ],
   "source": [
    "crime_data.shape"
   ]
  },
  {
   "cell_type": "code",
   "execution_count": 176,
   "metadata": {},
   "outputs": [
    {
     "data": {
      "text/plain": [
       "DR_NO               int64\n",
       "Date Rptd          object\n",
       "DATE OCC           object\n",
       "TIME OCC            int64\n",
       "AREA                int64\n",
       "AREA NAME          object\n",
       "Rpt Dist No         int64\n",
       "Crm Cd              int64\n",
       "Crm Cd Desc        object\n",
       "Vict Age            int64\n",
       "Vict Sex           object\n",
       "Vict Descent       object\n",
       "Premis Cd         float64\n",
       "Premis Desc        object\n",
       "Weapon Used Cd    float64\n",
       "Weapon Desc        object\n",
       "Status             object\n",
       "Status Desc        object\n",
       "Crm Cd 1          float64\n",
       "Crm Cd 2          float64\n",
       "Crm Cd 3          float64\n",
       "Crm Cd 4          float64\n",
       "LOCATION           object\n",
       "LAT               float64\n",
       "LON               float64\n",
       "dtype: object"
      ]
     },
     "execution_count": 176,
     "metadata": {},
     "output_type": "execute_result"
    }
   ],
   "source": [
    "# Checking for the datatypes of each column. Date Rptd and DATE OCC is supposed to be datetime while TIME OCC is supposed to be also supposed to be datetime\n",
    "\n",
    "crime_data.dtypes"
   ]
  },
  {
   "cell_type": "code",
   "execution_count": 177,
   "metadata": {},
   "outputs": [],
   "source": [
    "crime_data['Date Rptd'] = pd.to_datetime(crime_data['Date Rptd'])\n",
    "crime_data['DATE OCC'] = pd.to_datetime(crime_data['DATE OCC'])\n",
    "crime_data['TIME OCC'] = crime_data['TIME OCC'].astype('str')\n",
    "crime_data['TIME OCC'] = crime_data['TIME OCC'].str.zfill(4)\n",
    "crime_data['TIME OCC'] = pd.to_datetime(crime_data['TIME OCC'], format='%H%M').dt.time"
   ]
  },
  {
   "cell_type": "code",
   "execution_count": 192,
   "metadata": {},
   "outputs": [],
   "source": [
    "# Renaming columns with more comprehensible names.\n",
    "\n",
    "crime_data.rename(columns = {'DR_NO':'Div_Records_No', 'Date Rptd': 'Date reported', 'DATE OCC': 'Assault date', 'TIME OCC': 'Assault time', \n",
    "                             'AREA': 'Geographic area', 'AREA NAME': 'Area name', 'Rpt Dist No': 'Reported District No',\n",
    "                             'Crm Cd': 'Crime committed', 'Crm Cd Desc': 'Crime description', 'Vict Age': 'Victim\\'s age',\n",
    "                             'Vict Sex': 'Victim\\'s sex', 'Vict Descent': 'Victim\\'s race', 'Premis Cd': 'Crime location code',\n",
    "                             'Premis Desc': 'Crime location', 'Weapon Used Cd': 'Assault weapon code', 'Weapon Desc': 'Assault weapon',\n",
    "                             'Status': 'Status code', 'Status Desc': 'Investigation status', 'Crm Cd 1': 'Crime code 1', \n",
    "                             'Crm Cd 2': 'Crime code 2', 'Crm Cd 3': 'Crime code 3', 'Crm Cd 4': 'Crime code 4',\n",
    "                             'LOCATION': 'Address', 'LAT': 'Latitude', 'LON': 'Longitude'}, inplace = True)"
   ]
  },
  {
   "cell_type": "code",
   "execution_count": 193,
   "metadata": {},
   "outputs": [
    {
     "data": {
      "text/plain": [
       "Div_Records_No          595255\n",
       "Date reported             1364\n",
       "Assault date              1364\n",
       "Assault time              1439\n",
       "Geographic area             21\n",
       "Area name                   21\n",
       "Reported District No      1185\n",
       "Crime committed            135\n",
       "Crime description          135\n",
       "Victim's age               101\n",
       "Victim's sex                 2\n",
       "Victim's race               18\n",
       "Crime location code        310\n",
       "Crime location             303\n",
       "Assault weapon code         79\n",
       "Assault weapon              79\n",
       "Status code                  6\n",
       "Investigation status         6\n",
       "Crime code 1               136\n",
       "Crime code 2               119\n",
       "Crime code 3                36\n",
       "Crime code 4                 6\n",
       "Address                  59063\n",
       "Latitude                  5283\n",
       "Longitude                 4955\n",
       "dtype: int64"
      ]
     },
     "execution_count": 193,
     "metadata": {},
     "output_type": "execute_result"
    }
   ],
   "source": [
    "crime_data.nunique()"
   ]
  },
  {
   "cell_type": "code",
   "execution_count": 188,
   "metadata": {},
   "outputs": [
    {
     "data": {
      "text/plain": [
       "BATTERY - SIMPLE ASSAULT                                    62976\n",
       "THEFT OF IDENTITY                                           50063\n",
       "BURGLARY FROM VEHICLE                                       47660\n",
       "ASSAULT WITH DEADLY WEAPON, AGGRAVATED ASSAULT              44077\n",
       "INTIMATE PARTNER - SIMPLE ASSAULT                           40203\n",
       "VANDALISM - FELONY ($400 & OVER, ALL CHURCH VANDALISMS)     35877\n",
       "THEFT PLAIN - PETTY ($950 & UNDER)                          35035\n",
       "BURGLARY                                                    32101\n",
       "THEFT FROM MOTOR VEHICLE - GRAND ($950.01 AND OVER)         27614\n",
       "ROBBERY                                                     21559\n",
       "THEFT-GRAND ($950.01 & OVER)EXCPT,GUNS,FOWL,LIVESTK,PROD    20624\n",
       "VANDALISM - MISDEAMEANOR ($399 OR UNDER)                    16777\n",
       "CRIMINAL THREATS - NO WEAPON DISPLAYED                      16000\n",
       "THEFT FROM MOTOR VEHICLE - PETTY ($950 & UNDER)             13737\n",
       "BRANDISH WEAPON                                             12148\n",
       "INTIMATE PARTNER - AGGRAVATED ASSAULT                       10920\n",
       "VIOLATION OF RESTRAINING ORDER                              10015\n",
       "TRESPASSING                                                  6580\n",
       "BIKE - STOLEN                                                6521\n",
       "LETTERS, LEWD  -  TELEPHONE CALLS, LEWD                      6375\n",
       "VIOLATION OF COURT ORDER                                     5421\n",
       "BUNCO, GRAND THEFT                                           4874\n",
       "SHOPLIFTING - PETTY THEFT ($950 & UNDER)                     4011\n",
       "OTHER ASSAULT                                                3642\n",
       "ATTEMPTED ROBBERY                                            3592\n",
       "OTHER MISCELLANEOUS CRIME                                    3540\n",
       "THEFT, PERSON                                                3540\n",
       "BATTERY WITH SEXUAL CONTACT                                  3514\n",
       "RAPE, FORCIBLE                                               3185\n",
       "CHILD ABUSE (PHYSICAL) - SIMPLE ASSAULT                      2933\n",
       "VEHICLE - ATTEMPT STOLEN                                     2490\n",
       "CONTEMPT OF COURT                                            2337\n",
       "BURGLARY, ATTEMPTED                                          2274\n",
       "PICKPOCKET                                                   2136\n",
       "DOCUMENT FORGERY / STOLEN FELONY                             1940\n",
       "EXTORTION                                                    1672\n",
       "BUNCO, PETTY THEFT                                           1627\n",
       "CRM AGNST CHLD (13 OR UNDER) (14-15 & SUSP 10 YRS OLDER)     1481\n",
       "CRIMINAL HOMICIDE                                            1350\n",
       "SHOTS FIRED AT INHABITED DWELLING                            1281\n",
       "DISTURBING THE PEACE                                         1216\n",
       "ARSON                                                        1193\n",
       "SEXUAL PENETRATION W/FOREIGN OBJECT                          1127\n",
       "INDECENT EXPOSURE                                             973\n",
       "SEX,UNLAWFUL(INC MUTUAL CONSENT, PENETRATION W/ FRGN OBJ      868\n",
       "CHILD ANNOYING (17YRS & UNDER)                                856\n",
       "SHOPLIFTING-GRAND THEFT ($950.01 & OVER)                      849\n",
       "CHILD NEGLECT (SEE 300 W.I.C.)                                802\n",
       "VIOLATION OF TEMPORARY RESTRAINING ORDER                      771\n",
       "THEFT FROM MOTOR VEHICLE - ATTEMPT                            742\n",
       "Name: Crime description, dtype: int64"
      ]
     },
     "execution_count": 188,
     "metadata": {},
     "output_type": "execute_result"
    }
   ],
   "source": [
    "# Analyzing the various types of crime and their counts.\n",
    "\n",
    "types_of_crimes = crime_data['Crime description'].value_counts()\n",
    "types_of_crimes.head(50)"
   ]
  },
  {
   "cell_type": "code",
   "execution_count": 191,
   "metadata": {},
   "outputs": [
    {
     "data": {
      "text/plain": [
       "SINGLE FAMILY DWELLING                          133549\n",
       "STREET                                          110687\n",
       "MULTI-UNIT DWELLING (APARTMENT, DUPLEX, ETC)     93814\n",
       "PARKING LOT                                      38560\n",
       "SIDEWALK                                         32274\n",
       "VEHICLE, PASSENGER/TRUCK                         22331\n",
       "OTHER BUSINESS                                   17103\n",
       "GARAGE/CARPORT                                   12072\n",
       "DRIVEWAY                                          9533\n",
       "PARKING UNDERGROUND/BUILDING                      6143\n",
       "RESTAURANT/FAST FOOD                              5265\n",
       "OTHER RESIDENCE                                   5194\n",
       "OTHER PREMISE                                     4856\n",
       "ALLEY                                             4768\n",
       "PARK/PLAYGROUND                                   4414\n",
       "YARD (RESIDENTIAL/BUSINESS)                       4402\n",
       "HOTEL                                             3953\n",
       "MARKET                                            3307\n",
       "PORCH, RESIDENTIAL                                3227\n",
       "GAS STATION                                       3100\n",
       "BANK                                              2928\n",
       "DEPARTMENT STORE                                  2767\n",
       "PUBLIC STORAGE                                    2633\n",
       "AUTOMATED TELLER MACHINE (ATM)                    2329\n",
       "OTHER STORE                                       2248\n",
       "OTHER/OUTSIDE                                     2233\n",
       "TRANSPORTATION FACILITY (AIRPORT)                 2230\n",
       "MTA BUS                                           2024\n",
       "CONDOMINIUM/TOWNHOUSE                             1950\n",
       "MOTEL                                             1789\n",
       "CYBERSPACE                                        1687\n",
       "HOSPITAL                                          1560\n",
       "BUS STOP                                          1551\n",
       "HIGH SCHOOL                                       1536\n",
       "CLOTHING STORE                                    1481\n",
       "MINI-MART                                         1467\n",
       "OFFICE BUILDING/OFFICE                            1460\n",
       "HEALTH SPA/GYM                                    1372\n",
       "BAR/COCKTAIL/NIGHTCLUB                            1355\n",
       "NIGHT CLUB (OPEN EVENINGS ONLY)                   1292\n",
       "DRUG STORE                                        1141\n",
       "LIQUOR STORE                                      1094\n",
       "JUNIOR HIGH SCHOOL                                1081\n",
       "BEACH                                             1038\n",
       "SHOPPING MALL (COMMON AREA)                       1013\n",
       "LAUNDROMAT                                        1005\n",
       "MAIL BOX                                           969\n",
       "NURSING/CONVALESCENT/RETIREMENT HOME               932\n",
       "ELEMENTARY SCHOOL                                  903\n",
       "LA UNION STATION (NOT LINE SPECIFIC)               876\n",
       "Name: Crime location, dtype: int64"
      ]
     },
     "execution_count": 191,
     "metadata": {},
     "output_type": "execute_result"
    }
   ],
   "source": [
    "# Analyzing crimes by where the crime took place\n",
    "\n",
    "crimes_by_location = crime_data['Crime location'].value_counts()\n",
    "crimes_by_location.head(50)"
   ]
  },
  {
   "cell_type": "code",
   "execution_count": 194,
   "metadata": {},
   "outputs": [
    {
     "data": {
      "text/plain": [
       "STRONG-ARM (HANDS, FIST, FEET OR BODILY FORCE)    141953\n",
       "UNKNOWN WEAPON/OTHER WEAPON                        25182\n",
       "VERBAL THREAT                                      19005\n",
       "HAND GUN                                           14663\n",
       "KNIFE WITH BLADE 6INCHES OR LESS                    5516\n",
       "SEMI-AUTOMATIC PISTOL                               5300\n",
       "OTHER KNIFE                                         4720\n",
       "UNKNOWN FIREARM                                     4307\n",
       "MACE/PEPPER SPRAY                                   2910\n",
       "VEHICLE                                             2515\n",
       "PIPE/METAL PIPE                                     1930\n",
       "BOTTLE                                              1909\n",
       "STICK                                               1868\n",
       "ROCK/THROWN OBJECT                                  1833\n",
       "FOLDING KNIFE                                       1795\n",
       "CLUB/BAT                                            1758\n",
       "KITCHEN KNIFE                                       1566\n",
       "AIR PISTOL/REVOLVER/RIFLE/BB GUN                    1498\n",
       "KNIFE WITH BLADE OVER 6 INCHES IN LENGTH            1372\n",
       "BLUNT INSTRUMENT                                    1146\n",
       "HAMMER                                               989\n",
       "MACHETE                                              959\n",
       "REVOLVER                                             890\n",
       "SIMULATED GUN                                        769\n",
       "OTHER CUTTING INSTRUMENT                             680\n",
       "UNKNOWN TYPE CUTTING INSTRUMENT                      678\n",
       "PHYSICAL PRESENCE                                    668\n",
       "OTHER FIREARM                                        658\n",
       "SCREWDRIVER                                          597\n",
       "BELT FLAILING INSTRUMENT/CHAIN                       561\n",
       "SCISSORS                                             509\n",
       "CONCRETE BLOCK/BRICK                                 506\n",
       "RIFLE                                                356\n",
       "FIRE                                                 343\n",
       "FIXED OBJECT                                         327\n",
       "STUN GUN                                             294\n",
       "GLASS                                                276\n",
       "AXE                                                  257\n",
       "BOARD                                                247\n",
       "SHOTGUN                                              219\n",
       "CAUSTIC CHEMICAL/POISON                              194\n",
       "SWITCH BLADE                                         185\n",
       "BRASS KNUCKLES                                       172\n",
       "TOY GUN                                              119\n",
       "SCALDING LIQUID                                      119\n",
       "SWORD                                                112\n",
       "TIRE IRON                                            106\n",
       "RAZOR BLADE                                           92\n",
       "HECKLER & KOCH 93 SEMIAUTOMATIC ASSAULT RIFLE         77\n",
       "DIRK/DAGGER                                           72\n",
       "Name: Assault weapon, dtype: int64"
      ]
     },
     "execution_count": 194,
     "metadata": {},
     "output_type": "execute_result"
    }
   ],
   "source": [
    "# Analyzing crimes by the assault weapon used\n",
    "\n",
    "assault_weapons_used = crime_data['Assault weapon'].value_counts()\n",
    "assault_weapons_used.head(50)"
   ]
  },
  {
   "cell_type": "code",
   "execution_count": 195,
   "metadata": {},
   "outputs": [
    {
     "data": {
      "text/plain": [
       "Central        42620\n",
       "77th Street    38594\n",
       "Pacific        33873\n",
       "Southwest      33710\n",
       "Hollywood      32290\n",
       "Southeast      30867\n",
       "Olympic        29607\n",
       "N Hollywood    29130\n",
       "Wilshire       28223\n",
       "Newton         28106\n",
       "West LA        27707\n",
       "Van Nuys       27364\n",
       "Rampart        27291\n",
       "West Valley    25251\n",
       "Topanga        24666\n",
       "Northeast      24360\n",
       "Mission        24204\n",
       "Devonshire     23373\n",
       "Harbor         22974\n",
       "Foothill       20561\n",
       "Hollenbeck     20484\n",
       "Name: Area name, dtype: int64"
      ]
     },
     "execution_count": 195,
     "metadata": {},
     "output_type": "execute_result"
    }
   ],
   "source": [
    "# Analyzing crimes by the geographic area names\n",
    "\n",
    "crimes_geographic_area = crime_data['Area name'].value_counts()\n",
    "crimes_geographic_area.head(50)"
   ]
  },
  {
   "cell_type": "code",
   "execution_count": 190,
   "metadata": {},
   "outputs": [
    {
     "data": {
      "text/plain": [
       "0"
      ]
     },
     "execution_count": 190,
     "metadata": {},
     "output_type": "execute_result"
    }
   ],
   "source": [
    "# Looking for any duplicates in the dataset.\n",
    "\n",
    "# crime_data_d = crime_data.copy()\n",
    "# crime_data_d.drop_duplicates(subset=None, inplace=True)\n",
    "\n",
    "# crime_data_d.shape\n",
    "\n",
    "# del crime_data_d\n",
    "\n",
    "\n",
    "crime_data.duplicated().sum()"
   ]
  },
  {
   "cell_type": "code",
   "execution_count": 158,
   "metadata": {},
   "outputs": [
    {
     "data": {
      "text/html": [
       "<div>\n",
       "<style scoped>\n",
       "    .dataframe tbody tr th:only-of-type {\n",
       "        vertical-align: middle;\n",
       "    }\n",
       "\n",
       "    .dataframe tbody tr th {\n",
       "        vertical-align: top;\n",
       "    }\n",
       "\n",
       "    .dataframe thead th {\n",
       "        text-align: right;\n",
       "    }\n",
       "</style>\n",
       "<table border=\"1\" class=\"dataframe\">\n",
       "  <thead>\n",
       "    <tr style=\"text-align: right;\">\n",
       "      <th>Victim's race</th>\n",
       "      <th>A</th>\n",
       "      <th>B</th>\n",
       "      <th>C</th>\n",
       "      <th>D</th>\n",
       "      <th>F</th>\n",
       "      <th>G</th>\n",
       "      <th>H</th>\n",
       "      <th>I</th>\n",
       "      <th>J</th>\n",
       "      <th>K</th>\n",
       "      <th>L</th>\n",
       "      <th>O</th>\n",
       "      <th>P</th>\n",
       "      <th>S</th>\n",
       "      <th>U</th>\n",
       "      <th>V</th>\n",
       "      <th>W</th>\n",
       "      <th>Z</th>\n",
       "    </tr>\n",
       "    <tr>\n",
       "      <th>Victim's sex</th>\n",
       "      <th></th>\n",
       "      <th></th>\n",
       "      <th></th>\n",
       "      <th></th>\n",
       "      <th></th>\n",
       "      <th></th>\n",
       "      <th></th>\n",
       "      <th></th>\n",
       "      <th></th>\n",
       "      <th></th>\n",
       "      <th></th>\n",
       "      <th></th>\n",
       "      <th></th>\n",
       "      <th></th>\n",
       "      <th></th>\n",
       "      <th></th>\n",
       "      <th></th>\n",
       "      <th></th>\n",
       "    </tr>\n",
       "  </thead>\n",
       "  <tbody>\n",
       "    <tr>\n",
       "      <th>F</th>\n",
       "      <td>8440</td>\n",
       "      <td>63954</td>\n",
       "      <td>1474</td>\n",
       "      <td>28</td>\n",
       "      <td>1629</td>\n",
       "      <td>29</td>\n",
       "      <td>123266</td>\n",
       "      <td>331</td>\n",
       "      <td>554</td>\n",
       "      <td>1980</td>\n",
       "      <td>34</td>\n",
       "      <td>22097</td>\n",
       "      <td>118</td>\n",
       "      <td>22</td>\n",
       "      <td>68</td>\n",
       "      <td>430</td>\n",
       "      <td>68769</td>\n",
       "      <td>155</td>\n",
       "    </tr>\n",
       "    <tr>\n",
       "      <th>M</th>\n",
       "      <td>8934</td>\n",
       "      <td>49784</td>\n",
       "      <td>1601</td>\n",
       "      <td>31</td>\n",
       "      <td>1672</td>\n",
       "      <td>26</td>\n",
       "      <td>120191</td>\n",
       "      <td>428</td>\n",
       "      <td>565</td>\n",
       "      <td>2290</td>\n",
       "      <td>14</td>\n",
       "      <td>31341</td>\n",
       "      <td>96</td>\n",
       "      <td>18</td>\n",
       "      <td>66</td>\n",
       "      <td>390</td>\n",
       "      <td>84145</td>\n",
       "      <td>252</td>\n",
       "    </tr>\n",
       "  </tbody>\n",
       "</table>\n",
       "</div>"
      ],
      "text/plain": [
       "Victim's race     A      B     C   D     F   G       H    I    J     K   L  \\\n",
       "Victim's sex                                                                 \n",
       "F              8440  63954  1474  28  1629  29  123266  331  554  1980  34   \n",
       "M              8934  49784  1601  31  1672  26  120191  428  565  2290  14   \n",
       "\n",
       "Victim's race      O    P   S   U    V      W    Z  \n",
       "Victim's sex                                        \n",
       "F              22097  118  22  68  430  68769  155  \n",
       "M              31341   96  18  66  390  84145  252  "
      ]
     },
     "execution_count": 158,
     "metadata": {},
     "output_type": "execute_result"
    }
   ],
   "source": [
    "# Checking for the number assault on each victim's descent classified by sex\n",
    "\n",
    "first_contingency = pd.crosstab(crime_data['Victim\\'s sex'], crime_data['Victim\\'s race'])\n",
    "first_contingency"
   ]
  },
  {
   "cell_type": "code",
   "execution_count": 50,
   "metadata": {},
   "outputs": [],
   "source": [
    "# Checking for the number assault on each victim's descent classified by crime code\n",
    "\n",
    "# second_contingency = pd.crosstab(crime_data['Vict Age'], crime_data['Vict Descent'])\n",
    "# second_contingency"
   ]
  },
  {
   "cell_type": "code",
   "execution_count": 182,
   "metadata": {},
   "outputs": [
    {
     "data": {
      "text/plain": [
       "<Axes: >"
      ]
     },
     "execution_count": 182,
     "metadata": {},
     "output_type": "execute_result"
    },
    {
     "data": {
      "image/png": "[encoded data removed]",
      "text/plain": [
       "<Figure size 640x480 with 1 Axes>"
      ]
     },
     "metadata": {},
     "output_type": "display_data"
    }
   ],
   "source": [
    "# Checking for outliers in age column\n",
    "\n",
    "sns.boxplot(crime_data['Victim\\'s age'])\n",
    "# plt.gca().invert_xaxis()"
   ]
  },
  {
   "cell_type": "code",
   "execution_count": 183,
   "metadata": {},
   "outputs": [
    {
     "data": {
      "text/plain": [
       "Div_Records_No          4275\n",
       "Date reported           4275\n",
       "Assault date            4275\n",
       "Assault time            4275\n",
       "Geographic area         4275\n",
       "Area name               4275\n",
       "Reported District No    4275\n",
       "Crime committed         4275\n",
       "Crime description       4275\n",
       "Victim's age            4275\n",
       "Victim's sex            4273\n",
       "Victim's race           4273\n",
       "Premis Cd               4275\n",
       "Crime location          4274\n",
       "Assault weapon code     1175\n",
       "Weapon Desc             1175\n",
       "Status code             4275\n",
       "Investigation status    4275\n",
       "Crime code 1            4275\n",
       "Crime code 2             304\n",
       "Crime code 3               6\n",
       "Crime code 4               0\n",
       "Address                 4275\n",
       "Latitude                4275\n",
       "Longitude               4275\n",
       "dtype: int64"
      ]
     },
     "execution_count": 183,
     "metadata": {},
     "output_type": "execute_result"
    }
   ],
   "source": [
    "crime_data[crime_data['Victim\\'s age'] > 82].count()\n",
    "\n",
    "# There are only 4275 records of victim's age above 82. I don't think this will be significant. Do you think we should include this in our study?"
   ]
  },
  {
   "cell_type": "code",
   "execution_count": null,
   "metadata": {},
   "outputs": [],
   "source": []
  }
 ],
 "metadata": {
  "kernelspec": {
   "display_name": "base",
   "language": "python",
   "name": "python3"
  },
  "language_info": {
   "codemirror_mode": {
    "name": "ipython",
    "version": 3
   },
   "file_extension": ".py",
   "mimetype": "text/x-python",
   "name": "python",
   "nbconvert_exporter": "python",
   "pygments_lexer": "ipython3",
   "version": "3.11.4"
  },
  "orig_nbformat": 4
 },
 "nbformat": 4,
 "nbformat_minor": 2
}
