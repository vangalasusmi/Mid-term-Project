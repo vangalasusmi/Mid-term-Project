{
 "cells": [
  {
   "cell_type": "code",
   "execution_count": 59,
   "metadata": {},
   "outputs": [],
   "source": [
    "# Statistics modules\n",
    "import scipy.stats as st\n",
    "\n",
    "# Datetime class\n",
    "from datetime import date\n",
    "from datetime import datetime\n",
    "\n",
    "import pandas as pd # dataframe manipulation\n",
    "import numpy as np # linear algebra\n",
    "\n",
    "# data visualization\n",
    "import matplotlib.pyplot as plt\n",
    "import matplotlib.cm as cm\n",
    "import plotly.express as px\n",
    "import plotly.graph_objects as go\n",
    "import seaborn as sns\n",
    "import shap\n",
    "\n",
    "# sklearn \n",
    "from sklearn.cluster import KMeans\n",
    "from sklearn.preprocessing import PowerTransformer, OrdinalEncoder\n",
    "from sklearn.pipeline import Pipeline\n",
    "from sklearn.manifold import TSNE\n",
    "from sklearn.metrics import silhouette_score, silhouette_samples, accuracy_score, classification_report\n",
    "\n",
    "from pyod.models.ecod import ECOD\n",
    "from yellowbrick.cluster import KElbowVisualizer\n",
    "\n",
    "import lightgbm as lgb\n",
    "import prince\n",
    "\n",
    "sns.set_theme()   \n",
    "sns.set(color_codes=True)"
   ]
  },
  {
   "cell_type": "code",
   "execution_count": 60,
   "metadata": {},
   "outputs": [],
   "source": [
    "crime_data = pd.read_csv('crime_data.csv')"
   ]
  },
  {
   "cell_type": "markdown",
   "metadata": {},
   "source": [
    "## Data Transformation"
   ]
  },
  {
   "cell_type": "code",
   "execution_count": 63,
   "metadata": {},
   "outputs": [],
   "source": [
    "crime_data['Assault date'] = pd.to_datetime(crime_data['Assault date'])\n",
    "crime_data = crime_data[crime_data['Assault date'].dt.strftime('%Y') == '2023']"
   ]
  },
  {
   "cell_type": "code",
   "execution_count": 64,
   "metadata": {},
   "outputs": [],
   "source": [
    "crime_data = crime_data.drop(columns=['Div_Records_No', 'Date reported', 'Assault date', 'Assault time', 'Geographic area', 'Area name', 'Reported District No', \n",
    "                                      'Crime committed', 'Crime location code', 'Crime location', 'Assault weapon code', 'Assault weapon', 'Status code', \n",
    "                                      'Investigation status', 'Crime code 1', 'Crime code 2', 'Crime code 3', 'Crime code 4', 'Address', 'Latitude', 'Longitude'])"
   ]
  },
  {
   "cell_type": "code",
   "execution_count": 67,
   "metadata": {},
   "outputs": [],
   "source": [
    "# Analyzing the various types of crime and their counts.\n",
    "\n",
    "# types_of_crimes = crime_data['Crime description'].value_counts()\n",
    "# types_of_crimes.head()"
   ]
  },
  {
   "cell_type": "code",
   "execution_count": 68,
   "metadata": {},
   "outputs": [
    {
     "data": {
      "text/html": [
       "<div>\n",
       "<style scoped>\n",
       "    .dataframe tbody tr th:only-of-type {\n",
       "        vertical-align: middle;\n",
       "    }\n",
       "\n",
       "    .dataframe tbody tr th {\n",
       "        vertical-align: top;\n",
       "    }\n",
       "\n",
       "    .dataframe thead th {\n",
       "        text-align: right;\n",
       "    }\n",
       "</style>\n",
       "<table border=\"1\" class=\"dataframe\">\n",
       "  <thead>\n",
       "    <tr style=\"text-align: right;\">\n",
       "      <th></th>\n",
       "      <th>Crime description</th>\n",
       "      <th>Victim's age</th>\n",
       "      <th>Victim's sex</th>\n",
       "      <th>Victim's race</th>\n",
       "    </tr>\n",
       "  </thead>\n",
       "  <tbody>\n",
       "    <tr>\n",
       "      <th>477904</th>\n",
       "      <td>THEFT PLAIN - PETTY ($950 &amp; UNDER)</td>\n",
       "      <td>48</td>\n",
       "      <td>M</td>\n",
       "      <td>H</td>\n",
       "    </tr>\n",
       "    <tr>\n",
       "      <th>477905</th>\n",
       "      <td>ASSAULT WITH DEADLY WEAPON, AGGRAVATED ASSAULT</td>\n",
       "      <td>36</td>\n",
       "      <td>F</td>\n",
       "      <td>W</td>\n",
       "    </tr>\n",
       "    <tr>\n",
       "      <th>477906</th>\n",
       "      <td>THEFT FROM MOTOR VEHICLE - GRAND ($950.01 AND ...</td>\n",
       "      <td>25</td>\n",
       "      <td>F</td>\n",
       "      <td>H</td>\n",
       "    </tr>\n",
       "    <tr>\n",
       "      <th>477909</th>\n",
       "      <td>INTIMATE PARTNER - SIMPLE ASSAULT</td>\n",
       "      <td>30</td>\n",
       "      <td>F</td>\n",
       "      <td>H</td>\n",
       "    </tr>\n",
       "    <tr>\n",
       "      <th>477910</th>\n",
       "      <td>THEFT PLAIN - PETTY ($950 &amp; UNDER)</td>\n",
       "      <td>63</td>\n",
       "      <td>F</td>\n",
       "      <td>B</td>\n",
       "    </tr>\n",
       "  </tbody>\n",
       "</table>\n",
       "</div>"
      ],
      "text/plain": [
       "                                        Crime description  Victim's age  \\\n",
       "477904                 THEFT PLAIN - PETTY ($950 & UNDER)            48   \n",
       "477905     ASSAULT WITH DEADLY WEAPON, AGGRAVATED ASSAULT            36   \n",
       "477906  THEFT FROM MOTOR VEHICLE - GRAND ($950.01 AND ...            25   \n",
       "477909                  INTIMATE PARTNER - SIMPLE ASSAULT            30   \n",
       "477910                 THEFT PLAIN - PETTY ($950 & UNDER)            63   \n",
       "\n",
       "       Victim's sex Victim's race  \n",
       "477904            M             H  \n",
       "477905            F             W  \n",
       "477906            F             H  \n",
       "477909            F             H  \n",
       "477910            F             B  "
      ]
     },
     "execution_count": 68,
     "metadata": {},
     "output_type": "execute_result"
    }
   ],
   "source": [
    "crimes_in_focus = ['BATTERY - SIMPLE ASSAULT', 'THEFT OF IDENTITY', 'BURGLARY FROM VEHICLE', 'ASSAULT WITH DEADLY WEAPON, AGGRAVATED ASSAULT',\n",
    "                    'INTIMATE PARTNER - SIMPLE ASSAULT', 'VANDALISM - FELONY ($400 & OVER, ALL CHURCH VANDALISMS)', \n",
    "                    'THEFT PLAIN - PETTY ($950 & UNDER)', 'BURGLARY', 'THEFT FROM MOTOR VEHICLE - GRAND ($950.01 AND OVER)',\n",
    "                    'ROBBERY', 'VANDALISM - MISDEAMEANOR ($399 OR UNDER)', 'CRIMINAL THREATS - NO WEAPON DISPLAYED']\n",
    "\n",
    "crime_data_subset = crime_data['Crime description'].isin(crimes_in_focus)\n",
    "model_data = crime_data[crime_data_subset]\n",
    "model_data.head()"
   ]
  },
  {
   "cell_type": "code",
   "execution_count": 69,
   "metadata": {},
   "outputs": [
    {
     "name": "stdout",
     "output_type": "stream",
     "text": [
      "<class 'pandas.core.frame.DataFrame'>\n",
      "Int64Index: 84979 entries, 477904 to 595254\n",
      "Data columns (total 4 columns):\n",
      " #   Column             Non-Null Count  Dtype \n",
      "---  ------             --------------  ----- \n",
      " 0   Crime description  84979 non-null  object\n",
      " 1   Victim's age       84979 non-null  int64 \n",
      " 2   Victim's sex       84976 non-null  object\n",
      " 3   Victim's race      84975 non-null  object\n",
      "dtypes: int64(1), object(3)\n",
      "memory usage: 3.2+ MB\n"
     ]
    }
   ],
   "source": [
    "model_data.info()"
   ]
  },
  {
   "cell_type": "code",
   "execution_count": 70,
   "metadata": {},
   "outputs": [
    {
     "data": {
      "text/plain": [
       "Crime description    12\n",
       "Victim's age         98\n",
       "Victim's sex          2\n",
       "Victim's race        18\n",
       "dtype: int64"
      ]
     },
     "execution_count": 70,
     "metadata": {},
     "output_type": "execute_result"
    }
   ],
   "source": [
    "model_data.nunique()"
   ]
  },
  {
   "cell_type": "code",
   "execution_count": 71,
   "metadata": {},
   "outputs": [
    {
     "name": "stderr",
     "output_type": "stream",
     "text": [
      "C:\\Users\\Victor Jr\\AppData\\Local\\Temp\\ipykernel_102012\\2874563932.py:16: SettingWithCopyWarning:\n",
      "\n",
      "\n",
      "A value is trying to be set on a copy of a slice from a DataFrame.\n",
      "Try using .loc[row_indexer,col_indexer] = value instead\n",
      "\n",
      "See the caveats in the documentation: https://pandas.pydata.org/pandas-docs/stable/user_guide/indexing.html#returning-a-view-versus-a-copy\n",
      "\n"
     ]
    }
   ],
   "source": [
    "new_names = {\n",
    "    'BATTERY - SIMPLE ASSAULT': 'battery_simple_assault',\n",
    "    'THEFT OF IDENTITY': 'identity_theft',\n",
    "    'INTIMATE PARTNER - SIMPLE ASSAULT': 'gender_violence',\n",
    "    'BURGLARY FROM VEHICLE': 'vehicular_break_and_entering',\n",
    "    'ASSAULT WITH DEADLY WEAPON, AGGRAVATED ASSAULT': 'aggravated_assault_deadly_weapon',\n",
    "    'VANDALISM - FELONY ($400 & OVER, ALL CHURCH VANDALISMS)': 'vandalism_felony',\n",
    "    'THEFT PLAIN - PETTY ($950 & UNDER)': 'petty_theft',\n",
    "    'ROBBERY': 'robbery',\n",
    "    'BURGLARY': 'breaking_and_entering',\n",
    "    'VANDALISM - MISDEAMEANOR ($399 OR UNDER)': 'vandalism_misdeameanor',\n",
    "    'CRIMINAL THREATS - NO WEAPON DISPLAYED': 'criminal_threats'\n",
    "}\n",
    "\n",
    "# Use the mapping dictionary to replace names in the 'Names' column\n",
    "model_data['Crime description'] = model_data['Crime description'].map(new_names)"
   ]
  },
  {
   "cell_type": "code",
   "execution_count": 72,
   "metadata": {},
   "outputs": [],
   "source": [
    "model_data.to_csv('model_data.csv')"
   ]
  },
  {
   "cell_type": "markdown",
   "metadata": {},
   "source": [
    "## Model Building"
   ]
  },
  {
   "cell_type": "markdown",
   "metadata": {},
   "source": [
    "### The LLM + Kmeans model is used for crime segmentation (classification by clustering)"
   ]
  },
  {
   "cell_type": "code",
   "execution_count": 73,
   "metadata": {},
   "outputs": [],
   "source": [
    "# I don't really have an explanation for doing this. The code was initially giving me a bunch of errors, so I tried to follow exactly how it was done.\n",
    "\n",
    "model_data = model_data.iloc[:, :]"
   ]
  },
  {
   "cell_type": "code",
   "execution_count": 74,
   "metadata": {},
   "outputs": [],
   "source": [
    "# Since our problem is a classification problem with more than one categorical variables, the method of transforming the text into numerical vectors is the \n",
    "# Sentence Embedding (LLM). Providing input to the information-rich Kmeans model, will return better predictions.\n",
    "# The code is in a different python script.\n",
    "\n",
    "embedded_model_data = pd.read_csv('embedded_model_data.csv')"
   ]
  },
  {
   "cell_type": "code",
   "execution_count": 76,
   "metadata": {},
   "outputs": [],
   "source": [
    "# Functions to be called for plotting PCA 2D and 3D plots\n",
    "    \n",
    "# Not essential to understand or comprehend\n",
    "    \n",
    "def get_pca_2d(df, predict):\n",
    "\n",
    "    pca_2d_object = prince.PCA(\n",
    "    n_components=2,\n",
    "    n_iter=3,\n",
    "    rescale_with_mean=True,\n",
    "    rescale_with_std=True,\n",
    "    copy=True,\n",
    "    check_input=True,\n",
    "    engine='sklearn',\n",
    "    random_state=42\n",
    "    )\n",
    "\n",
    "    pca_2d_object.fit(df)\n",
    "\n",
    "    df_pca_2d = pca_2d_object.transform(df)\n",
    "    df_pca_2d.columns = [\"comp1\", \"comp2\"]\n",
    "    df_pca_2d[\"cluster\"] = predict\n",
    "\n",
    "    return pca_2d_object, df_pca_2d\n",
    "\n",
    "\n",
    "\n",
    "def get_pca_3d(df, predict):\n",
    "\n",
    "    pca_3d_object = prince.PCA(\n",
    "    n_components=3,\n",
    "    n_iter=3,\n",
    "    rescale_with_mean=True,\n",
    "    rescale_with_std=True,\n",
    "    copy=True,\n",
    "    check_input=True,\n",
    "    engine='sklearn',\n",
    "    random_state=42\n",
    "    )\n",
    "\n",
    "    pca_3d_object.fit(df)\n",
    "\n",
    "    df_pca_3d = pca_3d_object.transform(df)\n",
    "    df_pca_3d.columns = [\"comp1\", \"comp2\", \"comp3\"]\n",
    "    df_pca_3d[\"cluster\"] = predict\n",
    "\n",
    "    return pca_3d_object, df_pca_3d\n",
    "\n",
    "\n",
    "\n",
    "def plot_pca_3d(df, title = \"PCA Space\", opacity=0.8, width_line = 0.1):\n",
    "\n",
    "    df = df.astype({\"cluster\": \"object\"})\n",
    "    df = df.sort_values(\"cluster\")\n",
    "\n",
    "    fig = px.scatter_3d(df, \n",
    "                        x='comp1', \n",
    "                        y='comp2', \n",
    "                        z='comp3',\n",
    "                        color='cluster',\n",
    "                        template=\"plotly\",\n",
    "                        \n",
    "                        # symbol = \"cluster\",\n",
    "                        \n",
    "                        color_discrete_sequence=px.colors.qualitative.Vivid,\n",
    "                        title=title).update_traces(\n",
    "                            # mode = 'markers',\n",
    "                            marker={\n",
    "                                \"size\": 4,\n",
    "                                \"opacity\": opacity,\n",
    "                                # \"symbol\" : \"diamond\",\n",
    "                                \"line\": {\n",
    "                                    \"width\": width_line,\n",
    "                                    \"color\": \"black\",\n",
    "                                }\n",
    "                            }\n",
    "                        ).update_layout(\n",
    "                                width = 1000, \n",
    "                                height = 800, \n",
    "                                autosize = False, \n",
    "                                showlegend = True,\n",
    "                                legend=dict(title_font_family=\"Times New Roman\",\n",
    "                                            font=dict(size= 20)),\n",
    "                                scene = dict(xaxis=dict(title = 'comp1', titlefont_color = 'black'),\n",
    "                                            yaxis=dict(title = 'comp2', titlefont_color = 'black'),\n",
    "                                            zaxis=dict(title = 'comp3', titlefont_color = 'black')),\n",
    "                                font = dict(family = \"Gilroy\", color  = 'black', size = 15))\n",
    "                      \n",
    "    \n",
    "    fig.show()\n",
    "\n",
    "\n",
    "def plot_pca_2d(df, title = \"PCA Space\", opacity=0.8, width_line = 0.1):\n",
    "\n",
    "    df = df.astype({\"cluster\": \"object\"})\n",
    "    df = df.sort_values(\"cluster\")\n",
    "\n",
    "    fig = px.scatter(df, \n",
    "                        x='comp1', \n",
    "                        y='comp2', \n",
    "                        color='cluster',\n",
    "                        template=\"plotly\",\n",
    "                        # symbol = \"cluster\",\n",
    "                        \n",
    "                        color_discrete_sequence=px.colors.qualitative.Vivid,\n",
    "                        title=title).update_traces(\n",
    "                            # mode = 'markers',\n",
    "                            marker={\n",
    "                                \"size\": 8,\n",
    "                                \"opacity\": opacity,\n",
    "                                # \"symbol\" : \"diamond\",\n",
    "                                \"line\": {\n",
    "                                    \"width\": width_line,\n",
    "                                    \"color\": \"black\",\n",
    "                                }\n",
    "                            }\n",
    "                        ).update_layout(\n",
    "                                width = 800, \n",
    "                                height = 700, \n",
    "                                autosize = False, \n",
    "                                showlegend = True,\n",
    "                                legend=dict(title_font_family=\"Times New Roman\",\n",
    "                                            font=dict(size= 20)),\n",
    "                                scene = dict(xaxis=dict(title = 'comp1', titlefont_color = 'black'),\n",
    "                                            yaxis=dict(title = 'comp2', titlefont_color = 'black'),\n",
    "                                            ),\n",
    "                                font = dict(family = \"Gilroy\", color  = 'black', size = 15))\n",
    "                        \n",
    "        \n",
    "    fig.show()"
   ]
  },
  {
   "cell_type": "code",
   "execution_count": 77,
   "metadata": {},
   "outputs": [
    {
     "name": "stderr",
     "output_type": "stream",
     "text": [
      "C:\\Users\\Victor Jr\\AppData\\Local\\Temp\\ipykernel_102012\\1010830841.py:10: SettingWithCopyWarning:\n",
      "\n",
      "\n",
      "A value is trying to be set on a copy of a slice from a DataFrame.\n",
      "Try using .loc[row_indexer,col_indexer] = value instead\n",
      "\n",
      "See the caveats in the documentation: https://pandas.pydata.org/pandas-docs/stable/user_guide/indexing.html#returning-a-view-versus-a-copy\n",
      "\n"
     ]
    }
   ],
   "source": [
    "# This is the Python Outlier Detection (PyOD) library for detecting outliers for different cases. \n",
    "# The ECOD method (“empirical cumulative distribution functions for outlier detection”) is the specific method used.\n",
    "\n",
    "clf = ECOD()\n",
    "clf.fit(embedded_model_data)\n",
    "\n",
    "\n",
    "out = clf.predict(embedded_model_data) \n",
    "embedded_model_data[\"outliers\"] = out\n",
    "model_data[\"outliers\"] = out\n",
    "\n",
    "embedded_model_data_no_out = embedded_model_data[embedded_model_data[\"outliers\"] == 0]\n",
    "embedded_model_data_no_out = embedded_model_data_no_out.drop([\"outliers\"], axis = 1)\n",
    "\n",
    "\n",
    "embedded_model_data_with_out = embedded_model_data.copy()\n",
    "embedded_model_data_with_out = embedded_model_data_with_out.drop([\"outliers\"], axis = 1)"
   ]
  },
  {
   "cell_type": "code",
   "execution_count": 78,
   "metadata": {},
   "outputs": [
    {
     "data": {
      "text/plain": [
       "(76502, 384)"
      ]
     },
     "execution_count": 78,
     "metadata": {},
     "output_type": "execute_result"
    }
   ],
   "source": [
    "embedded_model_data_no_out.shape"
   ]
  },
  {
   "cell_type": "code",
   "execution_count": 79,
   "metadata": {},
   "outputs": [
    {
     "data": {
      "text/plain": [
       "(84979, 384)"
      ]
     },
     "execution_count": 79,
     "metadata": {},
     "output_type": "execute_result"
    }
   ],
   "source": [
    "embedded_model_data_with_out.shape"
   ]
  },
  {
   "cell_type": "code",
   "execution_count": 80,
   "metadata": {},
   "outputs": [
    {
     "data": {
      "image/png": "[encoded data removed]",
      "text/plain": [
       "<Figure size 800x550 with 2 Axes>"
      ]
     },
     "metadata": {},
     "output_type": "display_data"
    },
    {
     "data": {
      "text/plain": [
       "<Axes: title={'center': 'Distortion Score Elbow for KMeans Clustering'}, xlabel='k', ylabel='distortion score'>"
      ]
     },
     "execution_count": 80,
     "metadata": {},
     "output_type": "execute_result"
    }
   ],
   "source": [
    "# Instantiate the clustering model and visualizer\n",
    "\n",
    "km = KMeans(init=\"k-means++\", random_state=0, n_init=\"auto\")\n",
    "visualizer = KElbowVisualizer(km, k=(2,10), locate_elbow=False)\n",
    " \n",
    "visualizer.fit(embedded_model_data_no_out)        # Fit the data to the visualizer\n",
    "visualizer.show()"
   ]
  },
  {
   "cell_type": "code",
   "execution_count": 82,
   "metadata": {},
   "outputs": [
    {
     "name": "stderr",
     "output_type": "stream",
     "text": [
      "c:\\Anaconda\\Lib\\site-packages\\sklearn\\cluster\\_kmeans.py:1412: FutureWarning:\n",
      "\n",
      "The default value of `n_init` will change from 10 to 'auto' in 1.4. Set the value of `n_init` explicitly to suppress the warning\n",
      "\n"
     ]
    },
    {
     "name": "stdout",
     "output_type": "stream",
     "text": [
      "4884.212406170385\n"
     ]
    }
   ],
   "source": [
    "# Fitting the features and target to the Kmeans model\n",
    "\n",
    "n_clusters = 5\n",
    "\n",
    "clusters = KMeans(n_clusters=n_clusters, init = \"k-means++\").fit(embedded_model_data_no_out)\n",
    "print(clusters.inertia_)\n",
    "clusters_predict = clusters.predict(embedded_model_data_no_out)"
   ]
  },
  {
   "cell_type": "code",
   "execution_count": 83,
   "metadata": {},
   "outputs": [
    {
     "name": "stdout",
     "output_type": "stream",
     "text": [
      "Davies bouldin score: 1.1357047668384996\n",
      "Calinski Score: 30048.24972423338\n",
      "Silhouette Score: 0.45383385056016956\n"
     ]
    }
   ],
   "source": [
    "from sklearn.metrics import silhouette_score\n",
    "from sklearn.metrics import calinski_harabasz_score\n",
    "from sklearn.metrics import davies_bouldin_score\n",
    "\n",
    "\"\"\"\n",
    "The Davies Bouldin index is defined as the average similarity measure of each cluster with its most similar cluster, where similarity is the ratio of \n",
    "within-cluster distances to between-cluster distances.\n",
    "The minimum value of the DB Index is 0, whereas a smaller value (closer to 0) represents a better model that produces better clusters.\n",
    "\"\"\"\n",
    "print(f\"Davies bouldin score: {davies_bouldin_score(embedded_model_data_no_out, clusters_predict)}\")\n",
    "\n",
    "\"\"\"\n",
    "Calinski Harabaz Index -> Variance Ratio Criterion.\n",
    "Calinski Harabaz Index is defined as the ratio of the sum of between-cluster dispersion and of within-cluster dispersion.\n",
    "The higher the index the more separable the clusters.\n",
    "\"\"\"\n",
    "print(f\"Calinski Score: {calinski_harabasz_score(embedded_model_data_no_out, clusters_predict)}\")\n",
    "\n",
    "\n",
    "\"\"\"\n",
    "The silhouette score is a metric used to calculate the goodness of fit of a clustering algorithm, but can also be used as a method for determining an \n",
    "optimal value of k (see here for more).\n",
    "Its value ranges from -1 to 1.\n",
    "A value of 0 indicates clusters are overlapping and either the data or the value of k is incorrect.\n",
    "1 is the ideal value and indicates that clusters are very dense and nicely separated.\n",
    "\"\"\"\n",
    "print(f\"Silhouette Score: {silhouette_score(embedded_model_data_no_out, clusters_predict)}\")"
   ]
  },
  {
   "cell_type": "code",
   "execution_count": 84,
   "metadata": {},
   "outputs": [
    {
     "name": "stdout",
     "output_type": "stream",
     "text": [
      "The variability is :           eigenvalue % of variance % of variance (cumulative)\n",
      "component                                                    \n",
      "0             77.724        20.24%                     20.24%\n",
      "1             52.886        13.77%                     34.01%\n",
      "2             50.492        13.15%                     47.16%\n"
     ]
    }
   ],
   "source": [
    "# This code takes into account the variability contained in the first 3 components of the PCA analysis.\n",
    "# A value close to 80% is usually ideal.\n",
    "\n",
    "pca_3d_object, df_pca_3d = get_pca_3d(embedded_model_data_no_out, clusters_predict)\n",
    "# plot_pca_3d(df_pca_3d, title = \"PCA Space\", opacity=1, width_line = 0.1) # 3D plot of PCA\n",
    "print(\"The variability is :\", pca_3d_object.eigenvalues_summary)"
   ]
  },
  {
   "cell_type": "code",
   "execution_count": null,
   "metadata": {},
   "outputs": [],
   "source": [
    "# pca_2d_object, df_pca_2d = get_pca_2d(embedded_model_data_with_out, clusters_predict)\n",
    "# plot_pca_2d(df_pca_2d, title = \"PCA Space\", opacity=1, width_line = 0.2)"
   ]
  },
  {
   "cell_type": "code",
   "execution_count": null,
   "metadata": {},
   "outputs": [],
   "source": [
    "sampling_data = embedded_model_data_no_out.sample(frac=0.5, replace=True, random_state=1)\n",
    "sampling_clusters = pd.DataFrame(clusters_predict).sample(frac=0.5, replace=True, random_state=1)[0].values\n",
    "\n",
    "# 3D plot of t-SNE\n",
    "\n",
    "# df_tsne_3d = TSNE(\n",
    "#                   n_components=3, \n",
    "#                   learning_rate=500, \n",
    "#                   init='random', \n",
    "#                   perplexity=200, \n",
    "#                   n_iter = 5000).fit_transform(sampling_data)\n",
    "\n",
    "# df_tsne_3d = pd.DataFrame(df_tsne_3d, columns=[\"comp1\", \"comp2\",'comp3'])\n",
    "# df_tsne_3d[\"cluster\"] = sampling_clusters\n",
    "# plot_pca_3d(df_tsne_3d, title = \"T-SNE Space\", opacity=1, width_line = 0.1)\n",
    "\n",
    "\n",
    "# 2D Plot of t-SNE\n",
    "\n",
    "df_tsne_2d = TSNE(\n",
    "                  n_components=2, \n",
    "                  learning_rate=500, \n",
    "                  init='random', \n",
    "                  perplexity=200, \n",
    "                  n_iter = 5000).fit_transform(sampling_data)\n",
    "\n",
    "df_tsne_2d = pd.DataFrame(df_tsne_2d, columns=[\"comp1\", \"comp2\"])\n",
    "df_tsne_2d[\"cluster\"] = sampling_clusters\n",
    "\n",
    "plot_pca_2d(df_tsne_2d, title = \"T-SNE Space\", opacity=0.5, width_line = 0.5)"
   ]
  },
  {
   "cell_type": "code",
   "execution_count": 86,
   "metadata": {},
   "outputs": [],
   "source": [
    "model_data_no_outliers = model_data[model_data[\"outliers\"] == 0]\n",
    "model_data_no_outliers = model_data_no_outliers.drop(\"outliers\", axis = 1)"
   ]
  },
  {
   "cell_type": "code",
   "execution_count": 87,
   "metadata": {},
   "outputs": [
    {
     "name": "stdout",
     "output_type": "stream",
     "text": [
      "[LightGBM] [Warning] Unknown parameter: colsample_by_tree\n",
      "[LightGBM] [Warning] Found whitespace in feature_names, replace with underlines\n",
      "[LightGBM] [Warning] Unknown parameter: colsample_by_tree\n",
      "[LightGBM] [Info] Auto-choosing row-wise multi-threading, the overhead of testing was 0.000640 seconds.\n",
      "You can set `force_row_wise=true` to remove the overhead.\n",
      "And if memory is not enough, you can set `force_col_wise=true`.\n",
      "[LightGBM] [Info] Total Bins 132\n",
      "[LightGBM] [Info] Number of data points in the train set: 76502, number of used features: 4\n",
      "[LightGBM] [Info] Start training from score -2.326824\n",
      "[LightGBM] [Info] Start training from score -1.554097\n",
      "[LightGBM] [Info] Start training from score -1.757100\n",
      "[LightGBM] [Info] Start training from score -1.742286\n",
      "[LightGBM] [Info] Start training from score -1.069003\n",
      "[LightGBM] [Warning] No further splits with positive gain, best gain: -inf\n",
      "[LightGBM] [Warning] No further splits with positive gain, best gain: -inf\n",
      "[LightGBM] [Warning] No further splits with positive gain, best gain: -inf\n",
      "[LightGBM] [Warning] No further splits with positive gain, best gain: -inf\n",
      "[LightGBM] [Warning] No further splits with positive gain, best gain: -inf\n"
     ]
    },
    {
     "data": {
      "image/png": "[encoded data removed]",
      "text/plain": [
       "<Figure size 1500x1000 with 1 Axes>"
      ]
     },
     "metadata": {},
     "output_type": "display_data"
    }
   ],
   "source": [
    "clf_km = lgb.LGBMClassifier(colsample_by_tree=0.8)\n",
    "\n",
    "for col in [\"Crime description\", \"Victim's sex\", \"Victim's race\"]:\n",
    "    model_data_no_outliers[col] = model_data_no_outliers[col].astype('category')\n",
    "\n",
    "clf_km.fit(X=model_data_no_outliers, y=clusters_predict)\n",
    "\n",
    "#SHAP values\n",
    "explainer_km = shap.TreeExplainer(clf_km)\n",
    "shap_values_km = explainer_km.shap_values(model_data_no_outliers)\n",
    "shap.summary_plot(shap_values_km, model_data_no_outliers, plot_type=\"bar\", plot_size=(15, 10))"
   ]
  },
  {
   "cell_type": "code",
   "execution_count": 88,
   "metadata": {},
   "outputs": [
    {
     "name": "stdout",
     "output_type": "stream",
     "text": [
      "[LightGBM] [Warning] Unknown parameter: colsample_by_tree\n",
      "Training-set accuracy score: 1.0000\n",
      "              precision    recall  f1-score   support\n",
      "\n",
      "           0       1.00      1.00      1.00      7467\n",
      "           1       1.00      1.00      1.00     16171\n",
      "           2       1.00      1.00      1.00     13200\n",
      "           3       1.00      1.00      1.00     13397\n",
      "           4       1.00      1.00      1.00     26267\n",
      "\n",
      "    accuracy                           1.00     76502\n",
      "   macro avg       1.00      1.00      1.00     76502\n",
      "weighted avg       1.00      1.00      1.00     76502\n",
      "\n"
     ]
    }
   ],
   "source": [
    "y_pred = clf_km.predict(model_data_no_outliers)\n",
    "accuracy = accuracy_score(y_pred, clusters_predict)\n",
    "print('Training-set accuracy score: {0:0.4f}'. format(accuracy))\n",
    "print(classification_report(clusters_predict, y_pred))"
   ]
  },
  {
   "cell_type": "code",
   "execution_count": 89,
   "metadata": {},
   "outputs": [
    {
     "data": {
      "text/html": [
       "<div>\n",
       "<style scoped>\n",
       "    .dataframe tbody tr th:only-of-type {\n",
       "        vertical-align: middle;\n",
       "    }\n",
       "\n",
       "    .dataframe tbody tr th {\n",
       "        vertical-align: top;\n",
       "    }\n",
       "\n",
       "    .dataframe thead th {\n",
       "        text-align: right;\n",
       "    }\n",
       "</style>\n",
       "<table border=\"1\" class=\"dataframe\">\n",
       "  <thead>\n",
       "    <tr style=\"text-align: right;\">\n",
       "      <th></th>\n",
       "      <th>cluster</th>\n",
       "      <th>Crime description</th>\n",
       "      <th>Victim's age</th>\n",
       "      <th>Victim's sex</th>\n",
       "      <th>Victim's race</th>\n",
       "    </tr>\n",
       "  </thead>\n",
       "  <tbody>\n",
       "    <tr>\n",
       "      <th>0</th>\n",
       "      <td>1</td>\n",
       "      <td>aggravated_assault_deadly_weapon</td>\n",
       "      <td>36.607507</td>\n",
       "      <td>M</td>\n",
       "      <td>H</td>\n",
       "    </tr>\n",
       "    <tr>\n",
       "      <th>1</th>\n",
       "      <td>2</td>\n",
       "      <td>battery_simple_assault</td>\n",
       "      <td>40.429697</td>\n",
       "      <td>M</td>\n",
       "      <td>H</td>\n",
       "    </tr>\n",
       "    <tr>\n",
       "      <th>2</th>\n",
       "      <td>4</td>\n",
       "      <td>identity_theft</td>\n",
       "      <td>40.027601</td>\n",
       "      <td>M</td>\n",
       "      <td>H</td>\n",
       "    </tr>\n",
       "    <tr>\n",
       "      <th>3</th>\n",
       "      <td>0</td>\n",
       "      <td>vandalism_felony</td>\n",
       "      <td>42.038302</td>\n",
       "      <td>M</td>\n",
       "      <td>H</td>\n",
       "    </tr>\n",
       "    <tr>\n",
       "      <th>4</th>\n",
       "      <td>3</td>\n",
       "      <td>vehicular_break_and_entering</td>\n",
       "      <td>44.230723</td>\n",
       "      <td>M</td>\n",
       "      <td>W</td>\n",
       "    </tr>\n",
       "  </tbody>\n",
       "</table>\n",
       "</div>"
      ],
      "text/plain": [
       "   cluster                 Crime description  Victim's age Victim's sex  \\\n",
       "0        1  aggravated_assault_deadly_weapon     36.607507            M   \n",
       "1        2            battery_simple_assault     40.429697            M   \n",
       "2        4                    identity_theft     40.027601            M   \n",
       "3        0                  vandalism_felony     42.038302            M   \n",
       "4        3      vehicular_break_and_entering     44.230723            M   \n",
       "\n",
       "  Victim's race  \n",
       "0             H  \n",
       "1             H  \n",
       "2             H  \n",
       "3             H  \n",
       "4             W  "
      ]
     },
     "execution_count": 89,
     "metadata": {},
     "output_type": "execute_result"
    }
   ],
   "source": [
    "model_data_no_outliers[\"cluster\"] = clusters_predict\n",
    "\n",
    "model_data_group = model_data_no_outliers.groupby('cluster').agg(\n",
    "    {\n",
    "        \"Crime description\": lambda x: x.value_counts().index[0],\n",
    "        \"Victim's age\": 'mean',\n",
    "        \"Victim's sex\": lambda x: x.value_counts().index[0],\n",
    "        \"Victim's race\": lambda x: x.value_counts().index[0],\n",
    "        \n",
    "    }\n",
    ").sort_values(\"Crime description\").reset_index()\n",
    "model_data_group"
   ]
  },
  {
   "cell_type": "code",
   "execution_count": null,
   "metadata": {},
   "outputs": [],
   "source": []
  }
 ],
 "metadata": {
  "kernelspec": {
   "display_name": "base",
   "language": "python",
   "name": "python3"
  },
  "language_info": {
   "codemirror_mode": {
    "name": "ipython",
    "version": 3
   },
   "file_extension": ".py",
   "mimetype": "text/x-python",
   "name": "python",
   "nbconvert_exporter": "python",
   "pygments_lexer": "ipython3",
   "version": "3.11.4"
  },
  "orig_nbformat": 4
 },
 "nbformat": 4,
 "nbformat_minor": 2
}
